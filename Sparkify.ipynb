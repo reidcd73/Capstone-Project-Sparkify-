{
 "cells": [
  {
   "cell_type": "markdown",
   "metadata": {},
   "source": [
    "# Sparkify Project Workspace\n",
    "This workspace contains a tiny subset (128MB) of the full dataset available (12GB). Feel free to use this workspace to build your project, or to explore a smaller subset with Spark before deploying your cluster on the cloud. Instructions for setting up your Spark cluster is included in the last lesson of the Extracurricular Spark Course content.\n",
    "\n",
    "You can follow the steps below to guide your data analysis and model building portion of this project."
   ]
  },
  {
   "cell_type": "code",
   "execution_count": 75,
   "metadata": {},
   "outputs": [],
   "source": [
    "# import libraries\n",
    "from pyspark.sql import SparkSession\n",
    "from pyspark.sql.functions import udf\n",
    "from pyspark.sql.types import StringType\n",
    "from pyspark.sql.types import IntegerType\n",
    "from pyspark.sql.functions import desc\n",
    "from pyspark.sql.functions import asc\n",
    "from pyspark.sql.functions import sum as Fsum\n",
    "from pyspark.sql import functions as F\n",
    "from pyspark.sql.functions import col\n",
    "from pyspark.sql import Window\n",
    "\n",
    "# ML imports\n",
    "from pyspark.ml.feature import Normalizer, StandardScaler, VectorAssembler\n",
    "from pyspark.ml.classification import LogisticRegression , DecisionTreeClassifier, GBTClassifier, RandomForestClassifier\n",
    "from pyspark.ml.evaluation import MulticlassClassificationEvaluator , BinaryClassificationEvaluator\n",
    "from pyspark.ml.tuning import CrossValidator, ParamGridBuilder\n",
    "from pyspark.ml import Pipeline\n",
    "\n",
    "import datetime\n",
    "import matplotlib.pyplot as plt\n",
    "import seaborn as sn\n",
    "import numpy as np\n",
    "import pandas as pd\n",
    "import warnings\n",
    "warnings.filterwarnings('ignore')\n",
    "%matplotlib inline"
   ]
  },
  {
   "cell_type": "code",
   "execution_count": 76,
   "metadata": {},
   "outputs": [],
   "source": [
    "# create a Spark session\n",
    "spark = SparkSession \\\n",
    "    .builder \\\n",
    "    .appName(\"Sparkify Data\") \\\n",
    "    .getOrCreate()"
   ]
  },
  {
   "cell_type": "markdown",
   "metadata": {},
   "source": [
    "# Load and Clean Dataset\n",
    "In this workspace, the mini-dataset file is `mini_sparkify_event_data.json`. Load and clean the dataset, checking for invalid or missing data - for example, records without userids or sessionids. "
   ]
  },
  {
   "cell_type": "code",
   "execution_count": 77,
   "metadata": {},
   "outputs": [],
   "source": [
    "#Load the sample data to do intial analysis \n",
    "path = \"mini_sparkify_event_data.json\"\n",
    "user_log = spark.read.json(path)"
   ]
  },
  {
   "cell_type": "markdown",
   "metadata": {},
   "source": [
    "# Exploratory Data Analysis\n",
    "When you're working with the full dataset, perform EDA by loading a small subset of the data and doing basic manipulations within Spark. In this workspace, you are already provided a small subset of data you can explore.\n",
    "\n",
    "### Define Churn\n",
    "\n",
    "Once you've done some preliminary analysis, create a column `Churn` to use as the label for your model. I suggest using the `Cancellation Confirmation` events to define your churn, which happen for both paid and free users. As a bonus task, you can also look into the `Downgrade` events.\n",
    "\n",
    "### Explore Data\n",
    "Once you've defined churn, perform some exploratory data analysis to observe the behavior for users who stayed vs users who churned. You can start by exploring aggregates on these two groups of users, observing how much of a specific action they experienced per a certain time unit or number of songs played."
   ]
  },
  {
   "cell_type": "code",
   "execution_count": 78,
   "metadata": {},
   "outputs": [
    {
     "name": "stdout",
     "output_type": "stream",
     "text": [
      "root\n",
      " |-- artist: string (nullable = true)\n",
      " |-- auth: string (nullable = true)\n",
      " |-- firstName: string (nullable = true)\n",
      " |-- gender: string (nullable = true)\n",
      " |-- itemInSession: long (nullable = true)\n",
      " |-- lastName: string (nullable = true)\n",
      " |-- length: double (nullable = true)\n",
      " |-- level: string (nullable = true)\n",
      " |-- location: string (nullable = true)\n",
      " |-- method: string (nullable = true)\n",
      " |-- page: string (nullable = true)\n",
      " |-- registration: long (nullable = true)\n",
      " |-- sessionId: long (nullable = true)\n",
      " |-- song: string (nullable = true)\n",
      " |-- status: long (nullable = true)\n",
      " |-- ts: long (nullable = true)\n",
      " |-- userAgent: string (nullable = true)\n",
      " |-- userId: string (nullable = true)\n",
      "\n"
     ]
    }
   ],
   "source": [
    "user_log.printSchema()"
   ]
  },
  {
   "cell_type": "code",
   "execution_count": 79,
   "metadata": {},
   "outputs": [
    {
     "name": "stdout",
     "output_type": "stream",
     "text": [
      "+-------+------------------+----------+---------+------+------------------+--------+------------------+------+-----------------+------+-------+--------------------+-----------------+--------------------+------------------+--------------------+--------------------+------------------+\n",
      "|summary|            artist|      auth|firstName|gender|     itemInSession|lastName|            length| level|         location|method|   page|        registration|        sessionId|                song|            status|                  ts|           userAgent|            userId|\n",
      "+-------+------------------+----------+---------+------+------------------+--------+------------------+------+-----------------+------+-------+--------------------+-----------------+--------------------+------------------+--------------------+--------------------+------------------+\n",
      "|  count|            228108|    286500|   278154|278154|            286500|  278154|            228108|286500|           278154|286500| 286500|              278154|           286500|              228108|            286500|              286500|              278154|            286500|\n",
      "|   mean| 551.0852017937219|      null|     null|  null|114.41421291448516|    null|249.11718197783583|  null|             null|  null|   null|1.535358834085619...|1041.526554973822|            Infinity|210.05459685863875|1.540956889810394...|                null| 59682.02278593872|\n",
      "| stddev|1217.7693079161377|      null|     null|  null| 129.7672620114106|    null| 99.23517921058313|  null|             null|  null|   null|3.2913216163281236E9|726.7762634630807|                 NaN|31.505078488421987|  1.50754396082106E9|                null|109091.94999910559|\n",
      "|    min|               !!!| Cancelled| Adelaida|     F|                 0|   Adams|           0.78322|  free|       Albany, OR|   GET|  About|       1521380675000|                1|\u001c",
      "ÃÂg ÃÂtti Gr...|               200|       1538352117000|\"Mozilla/5.0 (Mac...|                  |\n",
      "|    max| ÃÂlafur Arnalds|Logged Out|   Zyonna|     M|              1321|  Wright|        3024.66567|  paid|Winston-Salem, NC|   PUT|Upgrade|       1543247354000|             2474|ÃÂau hafa slopp...|               404|       1543799476000|Mozilla/5.0 (comp...|                99|\n",
      "+-------+------------------+----------+---------+------+------------------+--------+------------------+------+-----------------+------+-------+--------------------+-----------------+--------------------+------------------+--------------------+--------------------+------------------+\n",
      "\n"
     ]
    }
   ],
   "source": [
    "user_log.describe().show()"
   ]
  },
  {
   "cell_type": "code",
   "execution_count": 80,
   "metadata": {},
   "outputs": [
    {
     "data": {
      "text/html": [
       "<div>\n",
       "<style scoped>\n",
       "    .dataframe tbody tr th:only-of-type {\n",
       "        vertical-align: middle;\n",
       "    }\n",
       "\n",
       "    .dataframe tbody tr th {\n",
       "        vertical-align: top;\n",
       "    }\n",
       "\n",
       "    .dataframe thead th {\n",
       "        text-align: right;\n",
       "    }\n",
       "</style>\n",
       "<table border=\"1\" class=\"dataframe\">\n",
       "  <thead>\n",
       "    <tr style=\"text-align: right;\">\n",
       "      <th></th>\n",
       "      <th>0</th>\n",
       "      <th>1</th>\n",
       "      <th>2</th>\n",
       "      <th>3</th>\n",
       "      <th>4</th>\n",
       "    </tr>\n",
       "  </thead>\n",
       "  <tbody>\n",
       "    <tr>\n",
       "      <td>artist</td>\n",
       "      <td>Martha Tilston</td>\n",
       "      <td>Five Iron Frenzy</td>\n",
       "      <td>Adam Lambert</td>\n",
       "      <td>Enigma</td>\n",
       "      <td>Daft Punk</td>\n",
       "    </tr>\n",
       "    <tr>\n",
       "      <td>auth</td>\n",
       "      <td>Logged In</td>\n",
       "      <td>Logged In</td>\n",
       "      <td>Logged In</td>\n",
       "      <td>Logged In</td>\n",
       "      <td>Logged In</td>\n",
       "    </tr>\n",
       "    <tr>\n",
       "      <td>firstName</td>\n",
       "      <td>Colin</td>\n",
       "      <td>Micah</td>\n",
       "      <td>Colin</td>\n",
       "      <td>Micah</td>\n",
       "      <td>Colin</td>\n",
       "    </tr>\n",
       "    <tr>\n",
       "      <td>gender</td>\n",
       "      <td>M</td>\n",
       "      <td>M</td>\n",
       "      <td>M</td>\n",
       "      <td>M</td>\n",
       "      <td>M</td>\n",
       "    </tr>\n",
       "    <tr>\n",
       "      <td>itemInSession</td>\n",
       "      <td>50</td>\n",
       "      <td>79</td>\n",
       "      <td>51</td>\n",
       "      <td>80</td>\n",
       "      <td>52</td>\n",
       "    </tr>\n",
       "    <tr>\n",
       "      <td>lastName</td>\n",
       "      <td>Freeman</td>\n",
       "      <td>Long</td>\n",
       "      <td>Freeman</td>\n",
       "      <td>Long</td>\n",
       "      <td>Freeman</td>\n",
       "    </tr>\n",
       "    <tr>\n",
       "      <td>length</td>\n",
       "      <td>277.89</td>\n",
       "      <td>236.094</td>\n",
       "      <td>282.827</td>\n",
       "      <td>262.713</td>\n",
       "      <td>223.608</td>\n",
       "    </tr>\n",
       "    <tr>\n",
       "      <td>level</td>\n",
       "      <td>paid</td>\n",
       "      <td>free</td>\n",
       "      <td>paid</td>\n",
       "      <td>free</td>\n",
       "      <td>paid</td>\n",
       "    </tr>\n",
       "    <tr>\n",
       "      <td>location</td>\n",
       "      <td>Bakersfield, CA</td>\n",
       "      <td>Boston-Cambridge-Newton, MA-NH</td>\n",
       "      <td>Bakersfield, CA</td>\n",
       "      <td>Boston-Cambridge-Newton, MA-NH</td>\n",
       "      <td>Bakersfield, CA</td>\n",
       "    </tr>\n",
       "    <tr>\n",
       "      <td>method</td>\n",
       "      <td>PUT</td>\n",
       "      <td>PUT</td>\n",
       "      <td>PUT</td>\n",
       "      <td>PUT</td>\n",
       "      <td>PUT</td>\n",
       "    </tr>\n",
       "    <tr>\n",
       "      <td>page</td>\n",
       "      <td>NextSong</td>\n",
       "      <td>NextSong</td>\n",
       "      <td>NextSong</td>\n",
       "      <td>NextSong</td>\n",
       "      <td>NextSong</td>\n",
       "    </tr>\n",
       "    <tr>\n",
       "      <td>registration</td>\n",
       "      <td>1.53817e+12</td>\n",
       "      <td>1.53833e+12</td>\n",
       "      <td>1.53817e+12</td>\n",
       "      <td>1.53833e+12</td>\n",
       "      <td>1.53817e+12</td>\n",
       "    </tr>\n",
       "    <tr>\n",
       "      <td>sessionId</td>\n",
       "      <td>29</td>\n",
       "      <td>8</td>\n",
       "      <td>29</td>\n",
       "      <td>8</td>\n",
       "      <td>29</td>\n",
       "    </tr>\n",
       "    <tr>\n",
       "      <td>song</td>\n",
       "      <td>Rockpools</td>\n",
       "      <td>Canada</td>\n",
       "      <td>Time For Miracles</td>\n",
       "      <td>Knocking On Forbidden Doors</td>\n",
       "      <td>Harder Better Faster Stronger</td>\n",
       "    </tr>\n",
       "    <tr>\n",
       "      <td>status</td>\n",
       "      <td>200</td>\n",
       "      <td>200</td>\n",
       "      <td>200</td>\n",
       "      <td>200</td>\n",
       "      <td>200</td>\n",
       "    </tr>\n",
       "    <tr>\n",
       "      <td>ts</td>\n",
       "      <td>1538352117000</td>\n",
       "      <td>1538352180000</td>\n",
       "      <td>1538352394000</td>\n",
       "      <td>1538352416000</td>\n",
       "      <td>1538352676000</td>\n",
       "    </tr>\n",
       "    <tr>\n",
       "      <td>userAgent</td>\n",
       "      <td>Mozilla/5.0 (Windows NT 6.1; WOW64; rv:31.0) G...</td>\n",
       "      <td>\"Mozilla/5.0 (Windows NT 6.1; WOW64) AppleWebK...</td>\n",
       "      <td>Mozilla/5.0 (Windows NT 6.1; WOW64; rv:31.0) G...</td>\n",
       "      <td>\"Mozilla/5.0 (Windows NT 6.1; WOW64) AppleWebK...</td>\n",
       "      <td>Mozilla/5.0 (Windows NT 6.1; WOW64; rv:31.0) G...</td>\n",
       "    </tr>\n",
       "    <tr>\n",
       "      <td>userId</td>\n",
       "      <td>30</td>\n",
       "      <td>9</td>\n",
       "      <td>30</td>\n",
       "      <td>9</td>\n",
       "      <td>30</td>\n",
       "    </tr>\n",
       "  </tbody>\n",
       "</table>\n",
       "</div>"
      ],
      "text/plain": [
       "                                                               0  \\\n",
       "artist                                            Martha Tilston   \n",
       "auth                                                   Logged In   \n",
       "firstName                                                  Colin   \n",
       "gender                                                         M   \n",
       "itemInSession                                                 50   \n",
       "lastName                                                 Freeman   \n",
       "length                                                    277.89   \n",
       "level                                                       paid   \n",
       "location                                         Bakersfield, CA   \n",
       "method                                                       PUT   \n",
       "page                                                    NextSong   \n",
       "registration                                         1.53817e+12   \n",
       "sessionId                                                     29   \n",
       "song                                                   Rockpools   \n",
       "status                                                       200   \n",
       "ts                                                 1538352117000   \n",
       "userAgent      Mozilla/5.0 (Windows NT 6.1; WOW64; rv:31.0) G...   \n",
       "userId                                                        30   \n",
       "\n",
       "                                                               1  \\\n",
       "artist                                          Five Iron Frenzy   \n",
       "auth                                                   Logged In   \n",
       "firstName                                                  Micah   \n",
       "gender                                                         M   \n",
       "itemInSession                                                 79   \n",
       "lastName                                                    Long   \n",
       "length                                                   236.094   \n",
       "level                                                       free   \n",
       "location                          Boston-Cambridge-Newton, MA-NH   \n",
       "method                                                       PUT   \n",
       "page                                                    NextSong   \n",
       "registration                                         1.53833e+12   \n",
       "sessionId                                                      8   \n",
       "song                                                      Canada   \n",
       "status                                                       200   \n",
       "ts                                                 1538352180000   \n",
       "userAgent      \"Mozilla/5.0 (Windows NT 6.1; WOW64) AppleWebK...   \n",
       "userId                                                         9   \n",
       "\n",
       "                                                               2  \\\n",
       "artist                                              Adam Lambert   \n",
       "auth                                                   Logged In   \n",
       "firstName                                                  Colin   \n",
       "gender                                                         M   \n",
       "itemInSession                                                 51   \n",
       "lastName                                                 Freeman   \n",
       "length                                                   282.827   \n",
       "level                                                       paid   \n",
       "location                                         Bakersfield, CA   \n",
       "method                                                       PUT   \n",
       "page                                                    NextSong   \n",
       "registration                                         1.53817e+12   \n",
       "sessionId                                                     29   \n",
       "song                                           Time For Miracles   \n",
       "status                                                       200   \n",
       "ts                                                 1538352394000   \n",
       "userAgent      Mozilla/5.0 (Windows NT 6.1; WOW64; rv:31.0) G...   \n",
       "userId                                                        30   \n",
       "\n",
       "                                                               3  \\\n",
       "artist                                                    Enigma   \n",
       "auth                                                   Logged In   \n",
       "firstName                                                  Micah   \n",
       "gender                                                         M   \n",
       "itemInSession                                                 80   \n",
       "lastName                                                    Long   \n",
       "length                                                   262.713   \n",
       "level                                                       free   \n",
       "location                          Boston-Cambridge-Newton, MA-NH   \n",
       "method                                                       PUT   \n",
       "page                                                    NextSong   \n",
       "registration                                         1.53833e+12   \n",
       "sessionId                                                      8   \n",
       "song                                 Knocking On Forbidden Doors   \n",
       "status                                                       200   \n",
       "ts                                                 1538352416000   \n",
       "userAgent      \"Mozilla/5.0 (Windows NT 6.1; WOW64) AppleWebK...   \n",
       "userId                                                         9   \n",
       "\n",
       "                                                               4  \n",
       "artist                                                 Daft Punk  \n",
       "auth                                                   Logged In  \n",
       "firstName                                                  Colin  \n",
       "gender                                                         M  \n",
       "itemInSession                                                 52  \n",
       "lastName                                                 Freeman  \n",
       "length                                                   223.608  \n",
       "level                                                       paid  \n",
       "location                                         Bakersfield, CA  \n",
       "method                                                       PUT  \n",
       "page                                                    NextSong  \n",
       "registration                                         1.53817e+12  \n",
       "sessionId                                                     29  \n",
       "song                               Harder Better Faster Stronger  \n",
       "status                                                       200  \n",
       "ts                                                 1538352676000  \n",
       "userAgent      Mozilla/5.0 (Windows NT 6.1; WOW64; rv:31.0) G...  \n",
       "userId                                                        30  "
      ]
     },
     "execution_count": 80,
     "metadata": {},
     "output_type": "execute_result"
    }
   ],
   "source": [
    "# use Pandas for a better view , transpose so all the info is on the page and dont need to scroll righ \n",
    "df=user_log.toPandas()\n",
    "df.head(5).transpose()"
   ]
  },
  {
   "cell_type": "code",
   "execution_count": 81,
   "metadata": {},
   "outputs": [
    {
     "name": "stdout",
     "output_type": "stream",
     "text": [
      "<class 'pandas.core.frame.DataFrame'>\n",
      "RangeIndex: 286500 entries, 0 to 286499\n",
      "Data columns (total 18 columns):\n",
      "artist           228108 non-null object\n",
      "auth             286500 non-null object\n",
      "firstName        278154 non-null object\n",
      "gender           278154 non-null object\n",
      "itemInSession    286500 non-null int64\n",
      "lastName         278154 non-null object\n",
      "length           228108 non-null float64\n",
      "level            286500 non-null object\n",
      "location         278154 non-null object\n",
      "method           286500 non-null object\n",
      "page             286500 non-null object\n",
      "registration     278154 non-null float64\n",
      "sessionId        286500 non-null int64\n",
      "song             228108 non-null object\n",
      "status           286500 non-null int64\n",
      "ts               286500 non-null int64\n",
      "userAgent        278154 non-null object\n",
      "userId           286500 non-null object\n",
      "dtypes: float64(2), int64(4), object(12)\n",
      "memory usage: 39.3+ MB\n"
     ]
    }
   ],
   "source": [
    "#again using Pandas dataframe to get more info \n",
    "df.info()"
   ]
  },
  {
   "cell_type": "code",
   "execution_count": 82,
   "metadata": {},
   "outputs": [
    {
     "data": {
      "text/plain": [
       "226"
      ]
     },
     "execution_count": 82,
     "metadata": {},
     "output_type": "execute_result"
    }
   ],
   "source": [
    "#number of unique users using Pandas \n",
    "df[\"userId\"].nunique()"
   ]
  },
  {
   "cell_type": "code",
   "execution_count": 83,
   "metadata": {},
   "outputs": [
    {
     "data": {
      "text/plain": [
       "226"
      ]
     },
     "execution_count": 83,
     "metadata": {},
     "output_type": "execute_result"
    }
   ],
   "source": [
    "#number of unique users using pyspark \n",
    "user_log.select('userId').distinct().count()"
   ]
  },
  {
   "cell_type": "code",
   "execution_count": 84,
   "metadata": {},
   "outputs": [
    {
     "name": "stdout",
     "output_type": "stream",
     "text": [
      "+------+\n",
      "|userId|\n",
      "+------+\n",
      "|      |\n",
      "|    10|\n",
      "|   100|\n",
      "|100001|\n",
      "|100002|\n",
      "|100003|\n",
      "|100004|\n",
      "|100005|\n",
      "|100006|\n",
      "|100007|\n",
      "|100008|\n",
      "|100009|\n",
      "|100010|\n",
      "|100011|\n",
      "|100012|\n",
      "|100013|\n",
      "|100014|\n",
      "|100015|\n",
      "|100016|\n",
      "|100017|\n",
      "+------+\n",
      "only showing top 20 rows\n",
      "\n"
     ]
    }
   ],
   "source": [
    "#looked at the users userIds - noted the bank user id \n",
    "user_log.select(\"userId\").dropDuplicates().sort(\"userId\").show()"
   ]
  },
  {
   "cell_type": "code",
   "execution_count": 85,
   "metadata": {},
   "outputs": [],
   "source": [
    "#remove the blank user id data \n",
    "user_log_clean = user_log.filter(user_log[\"userId\"] != \"\")"
   ]
  },
  {
   "cell_type": "code",
   "execution_count": 86,
   "metadata": {},
   "outputs": [
    {
     "data": {
      "text/plain": [
       "225"
      ]
     },
     "execution_count": 86,
     "metadata": {},
     "output_type": "execute_result"
    }
   ],
   "source": [
    "#confirm the number of unique users after dropping the blanks \n",
    "user_log_clean.select('userId').distinct().count()"
   ]
  },
  {
   "cell_type": "code",
   "execution_count": 87,
   "metadata": {},
   "outputs": [
    {
     "data": {
      "text/plain": [
       "278154"
      ]
     },
     "execution_count": 87,
     "metadata": {},
     "output_type": "execute_result"
    }
   ],
   "source": [
    "user_log_clean.count()"
   ]
  },
  {
   "cell_type": "code",
   "execution_count": 88,
   "metadata": {},
   "outputs": [
    {
     "name": "stdout",
     "output_type": "stream",
     "text": [
      "+-----+\n",
      "|level|\n",
      "+-----+\n",
      "| free|\n",
      "| paid|\n",
      "+-----+\n",
      "\n"
     ]
    }
   ],
   "source": [
    "user_log_clean.select(\"level\").dropDuplicates().sort(\"level\").show()"
   ]
  },
  {
   "cell_type": "code",
   "execution_count": 89,
   "metadata": {},
   "outputs": [
    {
     "name": "stdout",
     "output_type": "stream",
     "text": [
      "+--------------------+\n",
      "|                page|\n",
      "+--------------------+\n",
      "|               About|\n",
      "|          Add Friend|\n",
      "|     Add to Playlist|\n",
      "|              Cancel|\n",
      "|Cancellation Conf...|\n",
      "|           Downgrade|\n",
      "|               Error|\n",
      "|                Help|\n",
      "|                Home|\n",
      "|              Logout|\n",
      "|            NextSong|\n",
      "|         Roll Advert|\n",
      "|       Save Settings|\n",
      "|            Settings|\n",
      "|    Submit Downgrade|\n",
      "|      Submit Upgrade|\n",
      "|         Thumbs Down|\n",
      "|           Thumbs Up|\n",
      "|             Upgrade|\n",
      "+--------------------+\n",
      "\n"
     ]
    }
   ],
   "source": [
    "user_log_clean.select(\"page\").dropDuplicates().sort(\"page\").show()"
   ]
  },
  {
   "cell_type": "code",
   "execution_count": 90,
   "metadata": {},
   "outputs": [
    {
     "name": "stdout",
     "output_type": "stream",
     "text": [
      "+--------------------+------+\n",
      "|                page| count|\n",
      "+--------------------+------+\n",
      "|            NextSong|228108|\n",
      "|           Thumbs Up| 12551|\n",
      "|                Home| 10082|\n",
      "|     Add to Playlist|  6526|\n",
      "|          Add Friend|  4277|\n",
      "|         Roll Advert|  3933|\n",
      "|              Logout|  3226|\n",
      "|         Thumbs Down|  2546|\n",
      "|           Downgrade|  2055|\n",
      "|            Settings|  1514|\n",
      "|                Help|  1454|\n",
      "|             Upgrade|   499|\n",
      "|               About|   495|\n",
      "|       Save Settings|   310|\n",
      "|               Error|   252|\n",
      "|      Submit Upgrade|   159|\n",
      "|    Submit Downgrade|    63|\n",
      "|              Cancel|    52|\n",
      "|Cancellation Conf...|    52|\n",
      "+--------------------+------+\n",
      "\n"
     ]
    }
   ],
   "source": [
    "user_log_clean.groupBy('page').count().sort('count',ascending=False).show()"
   ]
  },
  {
   "cell_type": "code",
   "execution_count": 91,
   "metadata": {},
   "outputs": [
    {
     "name": "stdout",
     "output_type": "stream",
     "text": [
      "+------+------+\n",
      "|status| count|\n",
      "+------+------+\n",
      "|   200|254718|\n",
      "|   307| 23184|\n",
      "|   404|   252|\n",
      "+------+------+\n",
      "\n"
     ]
    }
   ],
   "source": [
    "user_log_clean.groupBy('status').count().sort('count',ascending=False).show()"
   ]
  },
  {
   "cell_type": "code",
   "execution_count": 92,
   "metadata": {},
   "outputs": [
    {
     "name": "stdout",
     "output_type": "stream",
     "text": [
      "+---------+------+\n",
      "|     auth| count|\n",
      "+---------+------+\n",
      "|Logged In|278102|\n",
      "|Cancelled|    52|\n",
      "+---------+------+\n",
      "\n"
     ]
    }
   ],
   "source": [
    "user_log_clean.groupBy('auth').count().sort('count',ascending=False).show()"
   ]
  },
  {
   "cell_type": "markdown",
   "metadata": {},
   "source": [
    "## Define Churn and Downgrade "
   ]
  },
  {
   "cell_type": "code",
   "execution_count": 93,
   "metadata": {},
   "outputs": [],
   "source": [
    "#user defined function to flag Churn\n",
    "flag_churn_event = udf(lambda x: 1 if x == \"Cancellation Confirmation\" else 0, IntegerType())"
   ]
  },
  {
   "cell_type": "code",
   "execution_count": 94,
   "metadata": {},
   "outputs": [],
   "source": [
    "#user defined function to flag Downgrade\n",
    "flag_downgrade_event = udf(lambda x: 1 if x == \"Submit Downgrade\" else 0, IntegerType())"
   ]
  },
  {
   "cell_type": "code",
   "execution_count": 95,
   "metadata": {},
   "outputs": [],
   "source": [
    "#create a new column 'churn' using the udf above to input 1 if 'Cancellation Confirmation' else 0 for other \n",
    "user_log_clean = user_log_clean.withColumn(\"churn\", flag_churn_event(\"page\"))"
   ]
  },
  {
   "cell_type": "code",
   "execution_count": 96,
   "metadata": {},
   "outputs": [],
   "source": [
    "#create a new column 'downgrade' using the udf above to input 1 if 'Submit Downgrade' else 0 for other \n",
    "user_log_clean = user_log_clean.withColumn(\"downgrade\", flag_downgrade_event(\"page\"))"
   ]
  },
  {
   "cell_type": "code",
   "execution_count": 97,
   "metadata": {},
   "outputs": [
    {
     "data": {
      "text/plain": [
       "278154"
      ]
     },
     "execution_count": 97,
     "metadata": {},
     "output_type": "execute_result"
    }
   ],
   "source": [
    "user_log_clean.count()"
   ]
  },
  {
   "cell_type": "code",
   "execution_count": 98,
   "metadata": {},
   "outputs": [],
   "source": [
    "#used udacity coarse work example to help structure this \n",
    "windowval = Window.partitionBy(\"userId\").orderBy(desc(\"ts\")).rangeBetween(Window.unboundedPreceding, 0)"
   ]
  },
  {
   "cell_type": "code",
   "execution_count": 99,
   "metadata": {},
   "outputs": [],
   "source": [
    "#dropped looking at Downgrade as single user could downgrade multiple times \n",
    "user_log_clean = user_log_clean.withColumn(\"downgrade\", Fsum(\"downgrade\").over(windowval))"
   ]
  },
  {
   "cell_type": "code",
   "execution_count": 100,
   "metadata": {},
   "outputs": [],
   "source": [
    "user_log_clean = user_log_clean.withColumn(\"churn\", Fsum(\"churn\").over(windowval))"
   ]
  },
  {
   "cell_type": "code",
   "execution_count": 101,
   "metadata": {},
   "outputs": [
    {
     "name": "stdout",
     "output_type": "stream",
     "text": [
      "root\n",
      " |-- artist: string (nullable = true)\n",
      " |-- auth: string (nullable = true)\n",
      " |-- firstName: string (nullable = true)\n",
      " |-- gender: string (nullable = true)\n",
      " |-- itemInSession: long (nullable = true)\n",
      " |-- lastName: string (nullable = true)\n",
      " |-- length: double (nullable = true)\n",
      " |-- level: string (nullable = true)\n",
      " |-- location: string (nullable = true)\n",
      " |-- method: string (nullable = true)\n",
      " |-- page: string (nullable = true)\n",
      " |-- registration: long (nullable = true)\n",
      " |-- sessionId: long (nullable = true)\n",
      " |-- song: string (nullable = true)\n",
      " |-- status: long (nullable = true)\n",
      " |-- ts: long (nullable = true)\n",
      " |-- userAgent: string (nullable = true)\n",
      " |-- userId: string (nullable = true)\n",
      " |-- churn: long (nullable = true)\n",
      " |-- downgrade: long (nullable = true)\n",
      "\n"
     ]
    }
   ],
   "source": [
    "user_log_clean.printSchema()"
   ]
  },
  {
   "cell_type": "code",
   "execution_count": 102,
   "metadata": {},
   "outputs": [
    {
     "name": "stdout",
     "output_type": "stream",
     "text": [
      "+-----+-----+\n",
      "|churn|count|\n",
      "+-----+-----+\n",
      "|    0|  173|\n",
      "|    1|   52|\n",
      "+-----+-----+\n",
      "\n"
     ]
    }
   ],
   "source": [
    "# show the split of the 225 unique user for churned or not churned - only 52 users have churned \n",
    "user_log_clean.select(['userId','churn']).distinct().groupBy('churn').count().show()"
   ]
  },
  {
   "cell_type": "code",
   "execution_count": 103,
   "metadata": {},
   "outputs": [
    {
     "name": "stdout",
     "output_type": "stream",
     "text": [
      "+---------+-----+\n",
      "|downgrade|count|\n",
      "+---------+-----+\n",
      "|        0|  225|\n",
      "|        1|   49|\n",
      "|        3|    2|\n",
      "|        2|   12|\n",
      "+---------+-----+\n",
      "\n"
     ]
    }
   ],
   "source": [
    "#descided to drop the downgrde option because of multiple downgrades \n",
    "#user_log_clean.groupby(['downgrade']).count().show()\n",
    "user_log_clean.select(['userId','downgrade']).distinct().groupBy('downgrade').count().show()"
   ]
  },
  {
   "cell_type": "code",
   "execution_count": 104,
   "metadata": {},
   "outputs": [
    {
     "name": "stdout",
     "output_type": "stream",
     "text": [
      "+------+-----+\n",
      "|userId|churn|\n",
      "+------+-----+\n",
      "|100010|    0|\n",
      "|200002|    0|\n",
      "|   125|    1|\n",
      "|   124|    0|\n",
      "|    51|    1|\n",
      "|     7|    0|\n",
      "|    15|    0|\n",
      "|    54|    1|\n",
      "|   155|    0|\n",
      "|100014|    1|\n",
      "+------+-----+\n",
      "only showing top 10 rows\n",
      "\n"
     ]
    }
   ],
   "source": [
    "#view showing if user has churned or not \n",
    "user_log_clean.select(['userId', 'churn']).dropDuplicates().show(10)"
   ]
  },
  {
   "cell_type": "markdown",
   "metadata": {},
   "source": [
    "## Data Exploration"
   ]
  },
  {
   "cell_type": "code",
   "execution_count": 105,
   "metadata": {},
   "outputs": [],
   "source": [
    "#User defined function to get the hour of the day from ts (timestamp) column \n",
    "get_hour = udf(lambda x: datetime.datetime.fromtimestamp(x / 1000.0). hour)"
   ]
  },
  {
   "cell_type": "code",
   "execution_count": 106,
   "metadata": {},
   "outputs": [],
   "source": [
    "get_timestamp = udf(lambda x : datetime.datetime.fromtimestamp(x/ 1000.0).strftime(\"%d-%m-%Y %H:%M:%S\"))"
   ]
  },
  {
   "cell_type": "code",
   "execution_count": 107,
   "metadata": {},
   "outputs": [],
   "source": [
    "user_log_clean = user_log_clean.withColumn(\"hour\", get_hour(user_log_clean.ts))"
   ]
  },
  {
   "cell_type": "code",
   "execution_count": 108,
   "metadata": {},
   "outputs": [],
   "source": [
    "user_log_clean = user_log_clean.withColumn(\"datetime\", get_timestamp(user_log_clean.registration))"
   ]
  },
  {
   "cell_type": "code",
   "execution_count": 109,
   "metadata": {},
   "outputs": [],
   "source": [
    "user_log_clean = user_log_clean.withColumn(\"reg_date\", get_timestamp(user_log_clean.ts))"
   ]
  },
  {
   "cell_type": "code",
   "execution_count": 110,
   "metadata": {},
   "outputs": [
    {
     "data": {
      "text/plain": [
       "Row(artist=None, auth='Logged In', firstName='Darianna', gender='F', itemInSession=34, lastName='Carpenter', length=None, level='free', location='Bridgeport-Stamford-Norwalk, CT', method='PUT', page='Logout', registration=1538016340000, sessionId=187, song=None, status=307, ts=1542823952000, userAgent='\"Mozilla/5.0 (iPhone; CPU iPhone OS 7_1_2 like Mac OS X) AppleWebKit/537.51.2 (KHTML, like Gecko) Version/7.0 Mobile/11D257 Safari/9537.53\"', userId='100010', churn=0, downgrade=0, hour='18', datetime='27-09-2018 03:45:40', reg_date='21-11-2018 18:12:32')"
      ]
     },
     "execution_count": 110,
     "metadata": {},
     "output_type": "execute_result"
    }
   ],
   "source": [
    "user_log_clean.head()"
   ]
  },
  {
   "cell_type": "code",
   "execution_count": 111,
   "metadata": {},
   "outputs": [],
   "source": [
    "songs_in_hour = user_log_clean.filter(user_log_clean.page == \"NextSong\").groupby('hour','churn').count().orderBy(user_log_clean.hour.cast(\"float\"))"
   ]
  },
  {
   "cell_type": "code",
   "execution_count": 112,
   "metadata": {},
   "outputs": [],
   "source": [
    "#songs_in_hour_pd = songs_in_hour.toPandas()\n",
    "songs_in_hour_pd.hour = pd.to_numeric(songs_in_hour_pd.hour)"
   ]
  },
  {
   "cell_type": "code",
   "execution_count": 133,
   "metadata": {},
   "outputs": [],
   "source": [
    "#plt.plot(songs_in_hour_pd[\"hour\"], songs_in_hour_pd[\"count\"])\n",
    "#plt.xlim(-1, 23);\n",
    "#plt.ylim(0.9 * min(songs_in_hour_pd[\"count\"]), 1.1 * max(songs_in_hour_pd[\"count\"]))\n",
    "#plt.xlabel(\"Hour\")\n",
    "#plt.ylabel(\"Songs played\");"
   ]
  },
  {
   "cell_type": "code",
   "execution_count": 114,
   "metadata": {},
   "outputs": [
    {
     "name": "stdout",
     "output_type": "stream",
     "text": [
      "+----+-----+-----+\n",
      "|hour|churn|count|\n",
      "+----+-----+-----+\n",
      "|   0|    1| 1564|\n",
      "|   0|    0| 7763|\n",
      "|   1|    0| 7337|\n",
      "|   1|    1| 1558|\n",
      "|   2|    0| 7000|\n",
      "|   2|    1| 1339|\n",
      "|   3|    0| 7009|\n",
      "|   3|    1| 1350|\n",
      "|   4|    1| 1295|\n",
      "|   4|    0| 6934|\n",
      "|   5|    0| 6779|\n",
      "|   5|    1| 1200|\n",
      "|   6|    0| 6906|\n",
      "|   6|    1| 1208|\n",
      "|   7|    0| 6905|\n",
      "|   7|    1| 1214|\n",
      "|   8|    1| 1222|\n",
      "|   8|    0| 7003|\n",
      "|   9|    0| 7098|\n",
      "|   9|    1| 1261|\n",
      "|  10|    1| 1294|\n",
      "|  10|    0| 7308|\n",
      "|  11|    0| 7300|\n",
      "|  11|    1| 1353|\n",
      "|  12|    0| 7877|\n",
      "+----+-----+-----+\n",
      "only showing top 25 rows\n",
      "\n"
     ]
    }
   ],
   "source": [
    "songs_in_hour.show(25)"
   ]
  },
  {
   "cell_type": "code",
   "execution_count": 145,
   "metadata": {},
   "outputs": [
    {
     "data": {
      "image/png": "[encoded data removed]",
      "text/plain": [
       "<Figure size 1080x288 with 1 Axes>"
      ]
     },
     "metadata": {},
     "output_type": "display_data"
    }
   ],
   "source": [
    "songs_in_hour_pd = songs_in_hour.toPandas()\n",
    "songs_in_hour_pd.hour = pd.to_numeric(songs_in_hour_pd.hour)\n",
    "sn.set(style=\"ticks\", color_codes=True)\n",
    "plt.figure(figsize=(15, 4))\n",
    "plt.title(\"Songs per Hour comparison  \", fontsize=14)\n",
    "sn.barplot(x=\"hour\", y=\"count\", hue=\"churn\", data=songs_in_hour_pd);"
   ]
  },
  {
   "cell_type": "code",
   "execution_count": 147,
   "metadata": {},
   "outputs": [],
   "source": [
    "average_songs_in_hour = user_log_clean.filter(user_log_clean.page == \"NextSong\").groupby('hour','churn').mean().orderBy(user_log_clean.hour.cast(\"float\"))"
   ]
  },
  {
   "cell_type": "code",
   "execution_count": 148,
   "metadata": {},
   "outputs": [
    {
     "data": {
      "image/png": "[encoded data removed]",
      "text/plain": [
       "<Figure size 1080x288 with 1 Axes>"
      ]
     },
     "metadata": {},
     "output_type": "display_data"
    }
   ],
   "source": [
    "average_songs_in_hour = average_songs_in_hour.toPandas()\n",
    "average_songs_in_hour.hour = pd.to_numeric(average_songs_in_hour.hour)\n",
    "sn.set(style=\"ticks\", color_codes=True)\n",
    "plt.figure(figsize=(15, 4))\n",
    "plt.title(\"Average songs per Hour comparison  \", fontsize=14)\n",
    "sn.barplot(x=\"hour\", y=\"avg(sessionId)\", hue=\"churn\", data=average_songs_in_hour);"
   ]
  },
  {
   "cell_type": "code",
   "execution_count": 116,
   "metadata": {},
   "outputs": [
    {
     "name": "stdout",
     "output_type": "stream",
     "text": [
      "+------+-----+\n",
      "|gender|count|\n",
      "+------+-----+\n",
      "|     F|  104|\n",
      "|     M|  121|\n",
      "+------+-----+\n",
      "\n"
     ]
    }
   ],
   "source": [
    "#User gender distribution \n",
    "user_log_clean.select(['userId','gender']).distinct().groupBy('gender').count().show()"
   ]
  },
  {
   "cell_type": "code",
   "execution_count": 117,
   "metadata": {},
   "outputs": [
    {
     "name": "stdout",
     "output_type": "stream",
     "text": [
      "+-----+------+-----+\n",
      "|churn|gender|count|\n",
      "+-----+------+-----+\n",
      "|    0|     F|   84|\n",
      "|    1|     M|   32|\n",
      "|    1|     F|   20|\n",
      "|    0|     M|   89|\n",
      "+-----+------+-----+\n",
      "\n"
     ]
    }
   ],
   "source": [
    "#Gender Churn \n",
    "user_log_clean.dropDuplicates(['userId', 'gender']).groupby(['churn', 'gender']).count().show()"
   ]
  },
  {
   "cell_type": "code",
   "execution_count": 132,
   "metadata": {},
   "outputs": [
    {
     "data": {
      "image/png": "[encoded data removed]",
      "text/plain": [
       "<Figure size 432x288 with 1 Axes>"
      ]
     },
     "metadata": {},
     "output_type": "display_data"
    }
   ],
   "source": [
    "gender_plt = user_log_clean.dropDuplicates(['userId', 'gender']).groupby(['churn','gender']).count().toPandas()\n",
    "sn.set(style=\"ticks\", color_codes=True)\n",
    "plt.title(\"Gender Comparison\", fontsize=14)\n",
    "sn.barplot(x=\"churn\", y=\"count\", hue=\"gender\", data=gender_plt);"
   ]
  },
  {
   "cell_type": "code",
   "execution_count": 119,
   "metadata": {},
   "outputs": [
    {
     "name": "stdout",
     "output_type": "stream",
     "text": [
      "+-----+-----+-----+\n",
      "|level|churn|count|\n",
      "+-----+-----+-----+\n",
      "| free|    0|  149|\n",
      "| paid|    0|  129|\n",
      "| free|    1|   46|\n",
      "| paid|    1|   36|\n",
      "+-----+-----+-----+\n",
      "\n"
     ]
    }
   ],
   "source": [
    "# Wont add up to 225 because of the mulitple upgrades and downgrades \n",
    "user_log_clean.dropDuplicates(['userId', 'churn','level']).groupby(['level','churn']).count().show()"
   ]
  },
  {
   "cell_type": "code",
   "execution_count": 131,
   "metadata": {},
   "outputs": [
    {
     "data": {
      "image/png": "[encoded data removed]",
      "text/plain": [
       "<Figure size 432x288 with 1 Axes>"
      ]
     },
     "metadata": {},
     "output_type": "display_data"
    }
   ],
   "source": [
    "level_plt = user_log_clean.dropDuplicates(['userId', 'churn', 'level']).groupby(['level','churn']).count().toPandas()\n",
    "sn.set(style=\"ticks\", color_codes=True)\n",
    "plt.title(\"Level comparison \", fontsize=14)\n",
    "sn.barplot(x=\"churn\", y=\"count\", hue=\"level\", data=level_plt);"
   ]
  },
  {
   "cell_type": "code",
   "execution_count": 129,
   "metadata": {},
   "outputs": [
    {
     "data": {
      "image/png": "[encoded data removed]",
      "text/plain": [
       "<Figure size 432x288 with 1 Axes>"
      ]
     },
     "metadata": {},
     "output_type": "display_data"
    }
   ],
   "source": [
    "# the averge number of sessions for churned vs non-churned \n",
    "sessions = user_log_clean.select(['sessionId', 'churn']).distinct().groupBy('churn').mean().sort('churn').toPandas()\n",
    "sn.set(style=\"ticks\", color_codes=True)\n",
    "plt.title(\"Averge number of sessions per user \", fontsize=14)\n",
    "sn.barplot(x=\"churn\", y=\"avg(sessionId)\", data=sessions);"
   ]
  },
  {
   "cell_type": "code",
   "execution_count": 130,
   "metadata": {},
   "outputs": [
    {
     "data": {
      "image/png": "[encoded data removed]",
      "text/plain": [
       "<Figure size 432x288 with 1 Axes>"
      ]
     },
     "metadata": {},
     "output_type": "display_data"
    }
   ],
   "source": [
    "# average number of songs pper user for churned vs non-churned \n",
    "songs_churn = user_log_clean.filter(user_log_clean.page == \"NextSong\").groupby(user_log_clean.churn).mean().orderBy(user_log_clean.churn.cast(\"float\")).toPandas()\n",
    "sn.set(style=\"ticks\", color_codes=True)\n",
    "plt.title(\"Averge number of songs per user \", fontsize=14)\n",
    "sn.barplot(x=\"churn\", y=\"avg(sessionId)\", data=songs_churn);"
   ]
  },
  {
   "cell_type": "markdown",
   "metadata": {},
   "source": [
    "# Feature Engineering\n",
    "Once you've familiarized yourself with the data, build out the features you find promising to train your model on. To work with the full dataset, you can follow the following steps.\n",
    "- Write a script to extract the necessary features from the smaller subset of data\n",
    "- Ensure that your script is scalable, using the best practices discussed in Lesson 3\n",
    "- Try your script on the full data set, debugging your script if necessary\n",
    "\n",
    "If you are working in the classroom workspace, you can just extract features based on the small subset of data contained here. Be sure to transfer over this work to the larger dataset when you work on your Spark cluster."
   ]
  },
  {
   "cell_type": "markdown",
   "metadata": {},
   "source": [
    "# Features and Label definition \n",
    "\n",
    "## Label \n",
    "\n",
    "1) Churn \n",
    "\n",
    "## Features \n",
    "\n",
    "1) Song count per user \n",
    "2) Like count per user\n",
    "3) dis-likes per user \n",
    "4) number of playlists \n",
    "5) number of friends \n",
    "6) number of sessions\n",
    "7) number of erors experienced\n",
    "8) active time \n",
    "9) gender \n",
    "10 account type i.e. paid or free       "
   ]
  },
  {
   "cell_type": "code",
   "execution_count": 49,
   "metadata": {},
   "outputs": [
    {
     "name": "stdout",
     "output_type": "stream",
     "text": [
      "+------+-----+\n",
      "|userId|churn|\n",
      "+------+-----+\n",
      "|    10|    0|\n",
      "|   100|    0|\n",
      "|100001|    1|\n",
      "|100002|    0|\n",
      "|100003|    1|\n",
      "+------+-----+\n",
      "only showing top 5 rows\n",
      "\n"
     ]
    }
   ],
   "source": [
    "#start with just userId and churn status - this will be the label \n",
    "churn = user_log_clean.select(['userId', 'churn']).dropDuplicates().orderBy(user_log_clean.userId)\n",
    "churn.show(5)"
   ]
  },
  {
   "cell_type": "code",
   "execution_count": 48,
   "metadata": {},
   "outputs": [
    {
     "name": "stdout",
     "output_type": "stream",
     "text": [
      "root\n",
      " |-- artist: string (nullable = true)\n",
      " |-- auth: string (nullable = true)\n",
      " |-- firstName: string (nullable = true)\n",
      " |-- gender: string (nullable = true)\n",
      " |-- itemInSession: long (nullable = true)\n",
      " |-- lastName: string (nullable = true)\n",
      " |-- length: double (nullable = true)\n",
      " |-- level: string (nullable = true)\n",
      " |-- location: string (nullable = true)\n",
      " |-- method: string (nullable = true)\n",
      " |-- page: string (nullable = true)\n",
      " |-- registration: long (nullable = true)\n",
      " |-- sessionId: long (nullable = true)\n",
      " |-- song: string (nullable = true)\n",
      " |-- status: long (nullable = true)\n",
      " |-- ts: long (nullable = true)\n",
      " |-- userAgent: string (nullable = true)\n",
      " |-- userId: string (nullable = true)\n",
      " |-- churn: long (nullable = true)\n",
      " |-- downgrade: integer (nullable = true)\n",
      " |-- hour: string (nullable = true)\n",
      " |-- datetime: string (nullable = true)\n",
      " |-- reg_date: string (nullable = true)\n",
      "\n"
     ]
    }
   ],
   "source": [
    "#print schema \n",
    "user_log_clean.printSchema()"
   ]
  },
  {
   "cell_type": "code",
   "execution_count": 50,
   "metadata": {},
   "outputs": [
    {
     "data": {
      "text/html": [
       "<div>\n",
       "<style scoped>\n",
       "    .dataframe tbody tr th:only-of-type {\n",
       "        vertical-align: middle;\n",
       "    }\n",
       "\n",
       "    .dataframe tbody tr th {\n",
       "        vertical-align: top;\n",
       "    }\n",
       "\n",
       "    .dataframe thead th {\n",
       "        text-align: right;\n",
       "    }\n",
       "</style>\n",
       "<table border=\"1\" class=\"dataframe\">\n",
       "  <thead>\n",
       "    <tr style=\"text-align: right;\">\n",
       "      <th></th>\n",
       "      <th>0</th>\n",
       "      <th>1</th>\n",
       "      <th>2</th>\n",
       "      <th>3</th>\n",
       "      <th>4</th>\n",
       "    </tr>\n",
       "  </thead>\n",
       "  <tbody>\n",
       "    <tr>\n",
       "      <td>artist</td>\n",
       "      <td>Martha Tilston</td>\n",
       "      <td>Five Iron Frenzy</td>\n",
       "      <td>Adam Lambert</td>\n",
       "      <td>Enigma</td>\n",
       "      <td>Daft Punk</td>\n",
       "    </tr>\n",
       "    <tr>\n",
       "      <td>auth</td>\n",
       "      <td>Logged In</td>\n",
       "      <td>Logged In</td>\n",
       "      <td>Logged In</td>\n",
       "      <td>Logged In</td>\n",
       "      <td>Logged In</td>\n",
       "    </tr>\n",
       "    <tr>\n",
       "      <td>firstName</td>\n",
       "      <td>Colin</td>\n",
       "      <td>Micah</td>\n",
       "      <td>Colin</td>\n",
       "      <td>Micah</td>\n",
       "      <td>Colin</td>\n",
       "    </tr>\n",
       "    <tr>\n",
       "      <td>gender</td>\n",
       "      <td>M</td>\n",
       "      <td>M</td>\n",
       "      <td>M</td>\n",
       "      <td>M</td>\n",
       "      <td>M</td>\n",
       "    </tr>\n",
       "    <tr>\n",
       "      <td>itemInSession</td>\n",
       "      <td>50</td>\n",
       "      <td>79</td>\n",
       "      <td>51</td>\n",
       "      <td>80</td>\n",
       "      <td>52</td>\n",
       "    </tr>\n",
       "    <tr>\n",
       "      <td>lastName</td>\n",
       "      <td>Freeman</td>\n",
       "      <td>Long</td>\n",
       "      <td>Freeman</td>\n",
       "      <td>Long</td>\n",
       "      <td>Freeman</td>\n",
       "    </tr>\n",
       "    <tr>\n",
       "      <td>length</td>\n",
       "      <td>277.89</td>\n",
       "      <td>236.094</td>\n",
       "      <td>282.827</td>\n",
       "      <td>262.713</td>\n",
       "      <td>223.608</td>\n",
       "    </tr>\n",
       "    <tr>\n",
       "      <td>level</td>\n",
       "      <td>paid</td>\n",
       "      <td>free</td>\n",
       "      <td>paid</td>\n",
       "      <td>free</td>\n",
       "      <td>paid</td>\n",
       "    </tr>\n",
       "    <tr>\n",
       "      <td>location</td>\n",
       "      <td>Bakersfield, CA</td>\n",
       "      <td>Boston-Cambridge-Newton, MA-NH</td>\n",
       "      <td>Bakersfield, CA</td>\n",
       "      <td>Boston-Cambridge-Newton, MA-NH</td>\n",
       "      <td>Bakersfield, CA</td>\n",
       "    </tr>\n",
       "    <tr>\n",
       "      <td>method</td>\n",
       "      <td>PUT</td>\n",
       "      <td>PUT</td>\n",
       "      <td>PUT</td>\n",
       "      <td>PUT</td>\n",
       "      <td>PUT</td>\n",
       "    </tr>\n",
       "    <tr>\n",
       "      <td>page</td>\n",
       "      <td>NextSong</td>\n",
       "      <td>NextSong</td>\n",
       "      <td>NextSong</td>\n",
       "      <td>NextSong</td>\n",
       "      <td>NextSong</td>\n",
       "    </tr>\n",
       "    <tr>\n",
       "      <td>registration</td>\n",
       "      <td>1.53817e+12</td>\n",
       "      <td>1.53833e+12</td>\n",
       "      <td>1.53817e+12</td>\n",
       "      <td>1.53833e+12</td>\n",
       "      <td>1.53817e+12</td>\n",
       "    </tr>\n",
       "    <tr>\n",
       "      <td>sessionId</td>\n",
       "      <td>29</td>\n",
       "      <td>8</td>\n",
       "      <td>29</td>\n",
       "      <td>8</td>\n",
       "      <td>29</td>\n",
       "    </tr>\n",
       "    <tr>\n",
       "      <td>song</td>\n",
       "      <td>Rockpools</td>\n",
       "      <td>Canada</td>\n",
       "      <td>Time For Miracles</td>\n",
       "      <td>Knocking On Forbidden Doors</td>\n",
       "      <td>Harder Better Faster Stronger</td>\n",
       "    </tr>\n",
       "    <tr>\n",
       "      <td>status</td>\n",
       "      <td>200</td>\n",
       "      <td>200</td>\n",
       "      <td>200</td>\n",
       "      <td>200</td>\n",
       "      <td>200</td>\n",
       "    </tr>\n",
       "    <tr>\n",
       "      <td>ts</td>\n",
       "      <td>1538352117000</td>\n",
       "      <td>1538352180000</td>\n",
       "      <td>1538352394000</td>\n",
       "      <td>1538352416000</td>\n",
       "      <td>1538352676000</td>\n",
       "    </tr>\n",
       "    <tr>\n",
       "      <td>userAgent</td>\n",
       "      <td>Mozilla/5.0 (Windows NT 6.1; WOW64; rv:31.0) G...</td>\n",
       "      <td>\"Mozilla/5.0 (Windows NT 6.1; WOW64) AppleWebK...</td>\n",
       "      <td>Mozilla/5.0 (Windows NT 6.1; WOW64; rv:31.0) G...</td>\n",
       "      <td>\"Mozilla/5.0 (Windows NT 6.1; WOW64) AppleWebK...</td>\n",
       "      <td>Mozilla/5.0 (Windows NT 6.1; WOW64; rv:31.0) G...</td>\n",
       "    </tr>\n",
       "    <tr>\n",
       "      <td>userId</td>\n",
       "      <td>30</td>\n",
       "      <td>9</td>\n",
       "      <td>30</td>\n",
       "      <td>9</td>\n",
       "      <td>30</td>\n",
       "    </tr>\n",
       "  </tbody>\n",
       "</table>\n",
       "</div>"
      ],
      "text/plain": [
       "                                                               0  \\\n",
       "artist                                            Martha Tilston   \n",
       "auth                                                   Logged In   \n",
       "firstName                                                  Colin   \n",
       "gender                                                         M   \n",
       "itemInSession                                                 50   \n",
       "lastName                                                 Freeman   \n",
       "length                                                    277.89   \n",
       "level                                                       paid   \n",
       "location                                         Bakersfield, CA   \n",
       "method                                                       PUT   \n",
       "page                                                    NextSong   \n",
       "registration                                         1.53817e+12   \n",
       "sessionId                                                     29   \n",
       "song                                                   Rockpools   \n",
       "status                                                       200   \n",
       "ts                                                 1538352117000   \n",
       "userAgent      Mozilla/5.0 (Windows NT 6.1; WOW64; rv:31.0) G...   \n",
       "userId                                                        30   \n",
       "\n",
       "                                                               1  \\\n",
       "artist                                          Five Iron Frenzy   \n",
       "auth                                                   Logged In   \n",
       "firstName                                                  Micah   \n",
       "gender                                                         M   \n",
       "itemInSession                                                 79   \n",
       "lastName                                                    Long   \n",
       "length                                                   236.094   \n",
       "level                                                       free   \n",
       "location                          Boston-Cambridge-Newton, MA-NH   \n",
       "method                                                       PUT   \n",
       "page                                                    NextSong   \n",
       "registration                                         1.53833e+12   \n",
       "sessionId                                                      8   \n",
       "song                                                      Canada   \n",
       "status                                                       200   \n",
       "ts                                                 1538352180000   \n",
       "userAgent      \"Mozilla/5.0 (Windows NT 6.1; WOW64) AppleWebK...   \n",
       "userId                                                         9   \n",
       "\n",
       "                                                               2  \\\n",
       "artist                                              Adam Lambert   \n",
       "auth                                                   Logged In   \n",
       "firstName                                                  Colin   \n",
       "gender                                                         M   \n",
       "itemInSession                                                 51   \n",
       "lastName                                                 Freeman   \n",
       "length                                                   282.827   \n",
       "level                                                       paid   \n",
       "location                                         Bakersfield, CA   \n",
       "method                                                       PUT   \n",
       "page                                                    NextSong   \n",
       "registration                                         1.53817e+12   \n",
       "sessionId                                                     29   \n",
       "song                                           Time For Miracles   \n",
       "status                                                       200   \n",
       "ts                                                 1538352394000   \n",
       "userAgent      Mozilla/5.0 (Windows NT 6.1; WOW64; rv:31.0) G...   \n",
       "userId                                                        30   \n",
       "\n",
       "                                                               3  \\\n",
       "artist                                                    Enigma   \n",
       "auth                                                   Logged In   \n",
       "firstName                                                  Micah   \n",
       "gender                                                         M   \n",
       "itemInSession                                                 80   \n",
       "lastName                                                    Long   \n",
       "length                                                   262.713   \n",
       "level                                                       free   \n",
       "location                          Boston-Cambridge-Newton, MA-NH   \n",
       "method                                                       PUT   \n",
       "page                                                    NextSong   \n",
       "registration                                         1.53833e+12   \n",
       "sessionId                                                      8   \n",
       "song                                 Knocking On Forbidden Doors   \n",
       "status                                                       200   \n",
       "ts                                                 1538352416000   \n",
       "userAgent      \"Mozilla/5.0 (Windows NT 6.1; WOW64) AppleWebK...   \n",
       "userId                                                         9   \n",
       "\n",
       "                                                               4  \n",
       "artist                                                 Daft Punk  \n",
       "auth                                                   Logged In  \n",
       "firstName                                                  Colin  \n",
       "gender                                                         M  \n",
       "itemInSession                                                 52  \n",
       "lastName                                                 Freeman  \n",
       "length                                                   223.608  \n",
       "level                                                       paid  \n",
       "location                                         Bakersfield, CA  \n",
       "method                                                       PUT  \n",
       "page                                                    NextSong  \n",
       "registration                                         1.53817e+12  \n",
       "sessionId                                                     29  \n",
       "song                               Harder Better Faster Stronger  \n",
       "status                                                       200  \n",
       "ts                                                 1538352676000  \n",
       "userAgent      Mozilla/5.0 (Windows NT 6.1; WOW64; rv:31.0) G...  \n",
       "userId                                                        30  "
      ]
     },
     "execution_count": 50,
     "metadata": {},
     "output_type": "execute_result"
    }
   ],
   "source": [
    "#view of availble data for feature engineering \n",
    "df_clean=user_log_clean.toPandas()\n",
    "df.head(5).transpose()"
   ]
  },
  {
   "cell_type": "code",
   "execution_count": 51,
   "metadata": {},
   "outputs": [
    {
     "name": "stdout",
     "output_type": "stream",
     "text": [
      "+--------------------+------+\n",
      "|                page| count|\n",
      "+--------------------+------+\n",
      "|            NextSong|228108|\n",
      "|           Thumbs Up| 12551|\n",
      "|                Home| 10082|\n",
      "|     Add to Playlist|  6526|\n",
      "|          Add Friend|  4277|\n",
      "|         Roll Advert|  3933|\n",
      "|              Logout|  3226|\n",
      "|         Thumbs Down|  2546|\n",
      "|           Downgrade|  2055|\n",
      "|            Settings|  1514|\n",
      "|                Help|  1454|\n",
      "|             Upgrade|   499|\n",
      "|               About|   495|\n",
      "|       Save Settings|   310|\n",
      "|               Error|   252|\n",
      "|      Submit Upgrade|   159|\n",
      "|    Submit Downgrade|    63|\n",
      "|              Cancel|    52|\n",
      "|Cancellation Conf...|    52|\n",
      "+--------------------+------+\n",
      "\n"
     ]
    }
   ],
   "source": [
    "#look closer at the page column catagories to see what could be used for feature engineering \n",
    "user_log_clean.groupBy('page').count().sort('count',ascending=False).show()"
   ]
  },
  {
   "cell_type": "code",
   "execution_count": 52,
   "metadata": {},
   "outputs": [
    {
     "name": "stdout",
     "output_type": "stream",
     "text": [
      "+------+----------+\n",
      "|userId|song_count|\n",
      "+------+----------+\n",
      "|    10|       673|\n",
      "|   100|      2682|\n",
      "|100001|       133|\n",
      "|100002|       195|\n",
      "|100003|        51|\n",
      "+------+----------+\n",
      "only showing top 5 rows\n",
      "\n"
     ]
    }
   ],
   "source": [
    "#song count per user \n",
    "song_count = user_log_clean.filter(user_log_clean.page == \"NextSong\").groupby(user_log_clean.userId).count().withColumnRenamed('count', 'song_count').orderBy(user_log_clean.userId)\n",
    "song_count.show(5)"
   ]
  },
  {
   "cell_type": "code",
   "execution_count": 53,
   "metadata": {},
   "outputs": [
    {
     "name": "stdout",
     "output_type": "stream",
     "text": [
      "+------+---------+\n",
      "|userId|thumbs_up|\n",
      "+------+---------+\n",
      "|    10|       37|\n",
      "|   100|      148|\n",
      "|100001|        8|\n",
      "|100002|        5|\n",
      "|100003|        3|\n",
      "+------+---------+\n",
      "only showing top 5 rows\n",
      "\n"
     ]
    }
   ],
   "source": [
    "#likes per user \n",
    "like_count = user_log_clean.filter(user_log_clean.page == \"Thumbs Up\").groupby(user_log_clean.userId).count().withColumnRenamed('count', 'thumbs_up').orderBy(user_log_clean.userId)\n",
    "like_count.show(5)"
   ]
  },
  {
   "cell_type": "code",
   "execution_count": 54,
   "metadata": {},
   "outputs": [
    {
     "name": "stdout",
     "output_type": "stream",
     "text": [
      "+------+-----------+\n",
      "|userId|thumbs_down|\n",
      "+------+-----------+\n",
      "|    10|          4|\n",
      "|   100|         27|\n",
      "|100001|          2|\n",
      "|100004|         11|\n",
      "|100005|          3|\n",
      "+------+-----------+\n",
      "only showing top 5 rows\n",
      "\n"
     ]
    },
    {
     "data": {
      "text/plain": [
       "203"
      ]
     },
     "execution_count": 54,
     "metadata": {},
     "output_type": "execute_result"
    }
   ],
   "source": [
    "#dislikes per user \n",
    "dislike_count = user_log_clean.filter(user_log_clean.page == \"Thumbs Down\").groupby(user_log_clean.userId).count().withColumnRenamed('count', 'thumbs_down').orderBy(user_log_clean.userId)\n",
    "dislike_count.show(5)\n",
    "dislike_count.count()"
   ]
  },
  {
   "cell_type": "code",
   "execution_count": 55,
   "metadata": {},
   "outputs": [
    {
     "name": "stdout",
     "output_type": "stream",
     "text": [
      "+------+--------------+\n",
      "|userId|playlist_count|\n",
      "+------+--------------+\n",
      "|    10|             9|\n",
      "|   100|            61|\n",
      "|100001|             3|\n",
      "|100002|             5|\n",
      "|100003|             2|\n",
      "+------+--------------+\n",
      "only showing top 5 rows\n",
      "\n"
     ]
    }
   ],
   "source": [
    "#playlists per user \n",
    "playlist_count = user_log_clean.filter(user_log_clean.page == \"Add to Playlist\").groupby(user_log_clean.userId).count().withColumnRenamed('count', 'playlist_count').orderBy(user_log_clean.userId)\n",
    "playlist_count.show(5)"
   ]
  },
  {
   "cell_type": "code",
   "execution_count": 56,
   "metadata": {},
   "outputs": [
    {
     "name": "stdout",
     "output_type": "stream",
     "text": [
      "+------+------------+\n",
      "|userId|friend_count|\n",
      "+------+------------+\n",
      "|    10|          12|\n",
      "|   100|          49|\n",
      "|100001|           2|\n",
      "|100002|           1|\n",
      "|100004|          19|\n",
      "+------+------------+\n",
      "only showing top 5 rows\n",
      "\n"
     ]
    }
   ],
   "source": [
    "#friend count per user \n",
    "friend_count = user_log_clean.filter(user_log_clean.page == \"Add Friend\").groupby(user_log_clean.userId).count().withColumnRenamed('count', 'friend_count').orderBy(user_log_clean.userId)\n",
    "friend_count.show(5)"
   ]
  },
  {
   "cell_type": "code",
   "execution_count": 57,
   "metadata": {},
   "outputs": [
    {
     "name": "stdout",
     "output_type": "stream",
     "text": [
      "+------+-------------+\n",
      "|userId|session_count|\n",
      "+------+-------------+\n",
      "|    10|            6|\n",
      "|   100|           35|\n",
      "|100001|            4|\n",
      "|100002|            4|\n",
      "|100003|            2|\n",
      "+------+-------------+\n",
      "only showing top 5 rows\n",
      "\n"
     ]
    }
   ],
   "source": [
    "#sessions count per user \n",
    "sessions_count = user_log_clean.select('userId', 'sessionId').dropDuplicates().groupby('userId').count().withColumnRenamed('count', 'session_count').orderBy(user_log_clean.userId)\n",
    "sessions_count.show(5)"
   ]
  },
  {
   "cell_type": "code",
   "execution_count": 58,
   "metadata": {},
   "outputs": [
    {
     "name": "stdout",
     "output_type": "stream",
     "text": [
      "+------+-----------+\n",
      "|userId|error_count|\n",
      "+------+-----------+\n",
      "|   100|          3|\n",
      "|100001|          1|\n",
      "|100004|          2|\n",
      "|100013|          2|\n",
      "|100015|          1|\n",
      "+------+-----------+\n",
      "only showing top 5 rows\n",
      "\n"
     ]
    }
   ],
   "source": [
    "#Error count per user \n",
    "error_count = user_log_clean.filter(user_log_clean.page == \"Error\").groupby(user_log_clean.userId).count().withColumnRenamed('count', 'error_count').orderBy(user_log_clean.userId)\n",
    "error_count.show(5)"
   ]
  },
  {
   "cell_type": "code",
   "execution_count": 59,
   "metadata": {},
   "outputs": [
    {
     "name": "stdout",
     "output_type": "stream",
     "text": [
      "+------+------+\n",
      "|userId|active|\n",
      "+------+------+\n",
      "|    10|    42|\n",
      "|   100|    58|\n",
      "|100001|     1|\n",
      "|100002|    55|\n",
      "|100003|     2|\n",
      "+------+------+\n",
      "only showing top 5 rows\n",
      "\n"
     ]
    }
   ],
   "source": [
    "#numbers of days active per user\n",
    "last_active =  user_log_clean.groupby('userId').max('ts')\n",
    "first_Active = user_log_clean.groupby('userId').min('ts')\n",
    "combined_dates = last_active.join(first_Active, on=['userId'], how='inner')\n",
    "combined_dates = combined_dates.withColumn(\"active\", ((col(\"max(ts)\") - col(\"min(ts)\"))/86400000).cast(IntegerType()))\n",
    "active = combined_dates.drop(\"max(ts)\" ,\"min(ts)\" ).orderBy('userId')\n",
    "active.show(5)"
   ]
  },
  {
   "cell_type": "code",
   "execution_count": 60,
   "metadata": {},
   "outputs": [],
   "source": [
    "#create dummy variables script \n",
    "#https://stackoverflow.com/questions/35879372/pyspark-matrix-with-dummy-variables\n",
    "\n",
    "def create_dummy (col):\n",
    "    \n",
    "    '''\n",
    "    converts column into a number of new columns with numneric 1 if varible present in row else 0 \n",
    "    col: the column name\n",
    "    return a dataframe with dummy variable \n",
    "    '''\n",
    "    categories = user_log_clean.select(col).distinct().rdd.flatMap(lambda x: x).collect()\n",
    "    exprs = [F.when(F.col(col) == category, 1).otherwise(0).alias(category)\n",
    "         for category in categories]\n",
    "    \n",
    "    dummy = user_log_clean.select(\"userId\", *exprs).dropDuplicates()\n",
    "    \n",
    "    return dummy"
   ]
  },
  {
   "cell_type": "code",
   "execution_count": 61,
   "metadata": {},
   "outputs": [
    {
     "name": "stdout",
     "output_type": "stream",
     "text": [
      "+------+---+---+\n",
      "|userId|  F|  M|\n",
      "+------+---+---+\n",
      "|    52|  1|  0|\n",
      "|    43|  1|  0|\n",
      "|    57|  0|  1|\n",
      "|    83|  0|  1|\n",
      "|   132|  1|  0|\n",
      "+------+---+---+\n",
      "only showing top 5 rows\n",
      "\n"
     ]
    },
    {
     "data": {
      "text/plain": [
       "225"
      ]
     },
     "execution_count": 61,
     "metadata": {},
     "output_type": "execute_result"
    }
   ],
   "source": [
    "#using create_dummy above add dummy variables for M or F \n",
    "gender = create_dummy('gender')\n",
    "gender.show(5)\n",
    "gender.count()"
   ]
  },
  {
   "cell_type": "code",
   "execution_count": 62,
   "metadata": {},
   "outputs": [
    {
     "name": "stdout",
     "output_type": "stream",
     "text": [
      "+------+----+----+\n",
      "|userId|free|paid|\n",
      "+------+----+----+\n",
      "|200002|   1|   0|\n",
      "|100010|   1|   0|\n",
      "|   125|   1|   0|\n",
      "|   124|   0|   1|\n",
      "|     7|   1|   0|\n",
      "+------+----+----+\n",
      "only showing top 5 rows\n",
      "\n"
     ]
    },
    {
     "data": {
      "text/plain": [
       "225"
      ]
     },
     "execution_count": 62,
     "metadata": {},
     "output_type": "execute_result"
    }
   ],
   "source": [
    "#using create_dummy above add dummy variables for free or paid\n",
    "level = create_dummy('level').dropDuplicates(['userId'])\n",
    "level.show(5)\n",
    "level.count()"
   ]
  },
  {
   "cell_type": "code",
   "execution_count": 63,
   "metadata": {},
   "outputs": [
    {
     "name": "stdout",
     "output_type": "stream",
     "text": [
      "+------+-----+----------+\n",
      "|userId|churn|song_count|\n",
      "+------+-----+----------+\n",
      "|100010|    0|       275|\n",
      "|200002|    0|       387|\n",
      "|   125|    1|         8|\n",
      "|   124|    0|      4079|\n",
      "|    51|    1|      2111|\n",
      "+------+-----+----------+\n",
      "only showing top 5 rows\n",
      "\n"
     ]
    },
    {
     "data": {
      "text/plain": [
       "225"
      ]
     },
     "execution_count": 63,
     "metadata": {},
     "output_type": "execute_result"
    }
   ],
   "source": [
    "#combining dataframes to create the features dataframe \n",
    "features = churn\n",
    "features = features.join(song_count ,'userId')\n",
    "features.show(5)\n",
    "features.count()"
   ]
  },
  {
   "cell_type": "code",
   "execution_count": 64,
   "metadata": {},
   "outputs": [
    {
     "name": "stdout",
     "output_type": "stream",
     "text": [
      "+------+-----+----------+---------+\n",
      "|userId|churn|song_count|thumbs_up|\n",
      "+------+-----+----------+---------+\n",
      "|100010|    0|       275|       17|\n",
      "|200002|    0|       387|       21|\n",
      "|   125|    1|         8|     null|\n",
      "|   124|    0|      4079|      171|\n",
      "|    51|    1|      2111|      100|\n",
      "+------+-----+----------+---------+\n",
      "only showing top 5 rows\n",
      "\n"
     ]
    },
    {
     "data": {
      "text/plain": [
       "225"
      ]
     },
     "execution_count": 64,
     "metadata": {},
     "output_type": "execute_result"
    }
   ],
   "source": [
    "features = features.join(like_count , 'userId' , how = 'left')\n",
    "features.show(5)\n",
    "features.count()"
   ]
  },
  {
   "cell_type": "code",
   "execution_count": 65,
   "metadata": {},
   "outputs": [
    {
     "name": "stdout",
     "output_type": "stream",
     "text": [
      "+------+-----+----------+---------+-----------+\n",
      "|userId|churn|song_count|thumbs_up|thumbs_down|\n",
      "+------+-----+----------+---------+-----------+\n",
      "|100010|    0|       275|       17|          5|\n",
      "|200002|    0|       387|       21|          6|\n",
      "|   125|    1|         8|     null|       null|\n",
      "|   124|    0|      4079|      171|         41|\n",
      "|    51|    1|      2111|      100|         21|\n",
      "+------+-----+----------+---------+-----------+\n",
      "only showing top 5 rows\n",
      "\n"
     ]
    },
    {
     "data": {
      "text/plain": [
       "225"
      ]
     },
     "execution_count": 65,
     "metadata": {},
     "output_type": "execute_result"
    }
   ],
   "source": [
    "features = features.join(dislike_count, 'userId', how='left')\n",
    "features.show(5)\n",
    "features.count()"
   ]
  },
  {
   "cell_type": "code",
   "execution_count": 66,
   "metadata": {},
   "outputs": [
    {
     "name": "stdout",
     "output_type": "stream",
     "text": [
      "+------+-----+----------+---------+-----------+--------------+\n",
      "|userId|churn|song_count|thumbs_up|thumbs_down|playlist_count|\n",
      "+------+-----+----------+---------+-----------+--------------+\n",
      "|100010|    0|       275|       17|          5|             7|\n",
      "|200002|    0|       387|       21|          6|             8|\n",
      "|   125|    1|         8|     null|       null|          null|\n",
      "|   124|    0|      4079|      171|         41|           118|\n",
      "|    51|    1|      2111|      100|         21|            52|\n",
      "+------+-----+----------+---------+-----------+--------------+\n",
      "only showing top 5 rows\n",
      "\n"
     ]
    },
    {
     "data": {
      "text/plain": [
       "225"
      ]
     },
     "execution_count": 66,
     "metadata": {},
     "output_type": "execute_result"
    }
   ],
   "source": [
    "features = features.join(playlist_count, 'userId', how='left')\n",
    "features.show(5)\n",
    "features.count()"
   ]
  },
  {
   "cell_type": "code",
   "execution_count": 67,
   "metadata": {},
   "outputs": [
    {
     "name": "stdout",
     "output_type": "stream",
     "text": [
      "+------+-----+----------+---------+-----------+--------------+------------+\n",
      "|userId|churn|song_count|thumbs_up|thumbs_down|playlist_count|friend_count|\n",
      "+------+-----+----------+---------+-----------+--------------+------------+\n",
      "|100010|    0|       275|       17|          5|             7|           4|\n",
      "|200002|    0|       387|       21|          6|             8|           4|\n",
      "|   125|    1|         8|     null|       null|          null|        null|\n",
      "|   124|    0|      4079|      171|         41|           118|          74|\n",
      "|    51|    1|      2111|      100|         21|            52|          28|\n",
      "+------+-----+----------+---------+-----------+--------------+------------+\n",
      "only showing top 5 rows\n",
      "\n"
     ]
    },
    {
     "data": {
      "text/plain": [
       "225"
      ]
     },
     "execution_count": 67,
     "metadata": {},
     "output_type": "execute_result"
    }
   ],
   "source": [
    "features = features.join(friend_count, 'userId', how='left')\n",
    "features.show(5)\n",
    "features.count()"
   ]
  },
  {
   "cell_type": "code",
   "execution_count": 68,
   "metadata": {},
   "outputs": [
    {
     "name": "stdout",
     "output_type": "stream",
     "text": [
      "+------+-----+----------+---------+-----------+--------------+------------+-------------+\n",
      "|userId|churn|song_count|thumbs_up|thumbs_down|playlist_count|friend_count|session_count|\n",
      "+------+-----+----------+---------+-----------+--------------+------------+-------------+\n",
      "|100010|    0|       275|       17|          5|             7|           4|            7|\n",
      "|200002|    0|       387|       21|          6|             8|           4|            6|\n",
      "|   125|    1|         8|     null|       null|          null|        null|            1|\n",
      "|   124|    0|      4079|      171|         41|           118|          74|           29|\n",
      "|    51|    1|      2111|      100|         21|            52|          28|           10|\n",
      "+------+-----+----------+---------+-----------+--------------+------------+-------------+\n",
      "only showing top 5 rows\n",
      "\n"
     ]
    },
    {
     "data": {
      "text/plain": [
       "225"
      ]
     },
     "execution_count": 68,
     "metadata": {},
     "output_type": "execute_result"
    }
   ],
   "source": [
    "features = features.join(sessions_count, 'userId', how='left')\n",
    "features.show(5)\n",
    "features.count()"
   ]
  },
  {
   "cell_type": "code",
   "execution_count": 69,
   "metadata": {},
   "outputs": [
    {
     "name": "stdout",
     "output_type": "stream",
     "text": [
      "+------+-----+----------+---------+-----------+--------------+------------+-------------+-----------+\n",
      "|userId|churn|song_count|thumbs_up|thumbs_down|playlist_count|friend_count|session_count|error_count|\n",
      "+------+-----+----------+---------+-----------+--------------+------------+-------------+-----------+\n",
      "|100010|    0|       275|       17|          5|             7|           4|            7|       null|\n",
      "|200002|    0|       387|       21|          6|             8|           4|            6|       null|\n",
      "|   125|    1|         8|     null|       null|          null|        null|            1|       null|\n",
      "|   124|    0|      4079|      171|         41|           118|          74|           29|          6|\n",
      "|    51|    1|      2111|      100|         21|            52|          28|           10|          1|\n",
      "+------+-----+----------+---------+-----------+--------------+------------+-------------+-----------+\n",
      "only showing top 5 rows\n",
      "\n"
     ]
    },
    {
     "data": {
      "text/plain": [
       "225"
      ]
     },
     "execution_count": 69,
     "metadata": {},
     "output_type": "execute_result"
    }
   ],
   "source": [
    "features = features.join(error_count, 'userId' , how='left')\n",
    "features.show(5)\n",
    "features.count()"
   ]
  },
  {
   "cell_type": "code",
   "execution_count": 70,
   "metadata": {},
   "outputs": [
    {
     "name": "stdout",
     "output_type": "stream",
     "text": [
      "+------+-----+----------+---------+-----------+--------------+------------+-------------+-----------+------+\n",
      "|userId|churn|song_count|thumbs_up|thumbs_down|playlist_count|friend_count|session_count|error_count|active|\n",
      "+------+-----+----------+---------+-----------+--------------+------------+-------------+-----------+------+\n",
      "|100010|    0|       275|       17|          5|             7|           4|            7|       null|    44|\n",
      "|200002|    0|       387|       21|          6|             8|           4|            6|       null|    45|\n",
      "|   125|    1|         8|     null|       null|          null|        null|            1|       null|     0|\n",
      "|   124|    0|      4079|      171|         41|           118|          74|           29|          6|    59|\n",
      "|    51|    1|      2111|      100|         21|            52|          28|           10|          1|    15|\n",
      "+------+-----+----------+---------+-----------+--------------+------------+-------------+-----------+------+\n",
      "only showing top 5 rows\n",
      "\n"
     ]
    },
    {
     "data": {
      "text/plain": [
       "225"
      ]
     },
     "execution_count": 70,
     "metadata": {},
     "output_type": "execute_result"
    }
   ],
   "source": [
    "features = features.join(active, 'userId', how='left')\n",
    "features.show(5)\n",
    "features.count()"
   ]
  },
  {
   "cell_type": "code",
   "execution_count": 71,
   "metadata": {},
   "outputs": [
    {
     "name": "stdout",
     "output_type": "stream",
     "text": [
      "+------+-----+----------+---------+-----------+--------------+------------+-------------+-----------+------+---+---+\n",
      "|userId|churn|song_count|thumbs_up|thumbs_down|playlist_count|friend_count|session_count|error_count|active|  F|  M|\n",
      "+------+-----+----------+---------+-----------+--------------+------------+-------------+-----------+------+---+---+\n",
      "|100010|    0|       275|       17|          5|             7|           4|            7|       null|    44|  1|  0|\n",
      "|200002|    0|       387|       21|          6|             8|           4|            6|       null|    45|  0|  1|\n",
      "|   125|    1|         8|     null|       null|          null|        null|            1|       null|     0|  0|  1|\n",
      "|   124|    0|      4079|      171|         41|           118|          74|           29|          6|    59|  1|  0|\n",
      "|    51|    1|      2111|      100|         21|            52|          28|           10|          1|    15|  0|  1|\n",
      "+------+-----+----------+---------+-----------+--------------+------------+-------------+-----------+------+---+---+\n",
      "only showing top 5 rows\n",
      "\n"
     ]
    },
    {
     "data": {
      "text/plain": [
       "225"
      ]
     },
     "execution_count": 71,
     "metadata": {},
     "output_type": "execute_result"
    }
   ],
   "source": [
    "features = features.join(gender, 'userId', how='left')\n",
    "features.show(5)\n",
    "features.count()"
   ]
  },
  {
   "cell_type": "code",
   "execution_count": 72,
   "metadata": {},
   "outputs": [
    {
     "name": "stdout",
     "output_type": "stream",
     "text": [
      "+------+-----+----------+---------+-----------+--------------+------------+-------------+-----------+------+---+---+----+----+\n",
      "|userId|churn|song_count|thumbs_up|thumbs_down|playlist_count|friend_count|session_count|error_count|active|  F|  M|free|paid|\n",
      "+------+-----+----------+---------+-----------+--------------+------------+-------------+-----------+------+---+---+----+----+\n",
      "|100010|    0|       275|       17|          5|             7|           4|            7|       null|    44|  1|  0|   1|   0|\n",
      "|200002|    0|       387|       21|          6|             8|           4|            6|       null|    45|  0|  1|   1|   0|\n",
      "|   125|    1|         8|     null|       null|          null|        null|            1|       null|     0|  0|  1|   1|   0|\n",
      "|   124|    0|      4079|      171|         41|           118|          74|           29|          6|    59|  1|  0|   0|   1|\n",
      "|    51|    1|      2111|      100|         21|            52|          28|           10|          1|    15|  0|  1|   0|   1|\n",
      "+------+-----+----------+---------+-----------+--------------+------------+-------------+-----------+------+---+---+----+----+\n",
      "only showing top 5 rows\n",
      "\n"
     ]
    },
    {
     "data": {
      "text/plain": [
       "225"
      ]
     },
     "execution_count": 72,
     "metadata": {},
     "output_type": "execute_result"
    }
   ],
   "source": [
    "features = features.join(level, 'userId', how='left')\n",
    "features.show(5)\n",
    "features.count()"
   ]
  },
  {
   "cell_type": "code",
   "execution_count": 73,
   "metadata": {},
   "outputs": [
    {
     "data": {
      "text/plain": [
       "userId              0\n",
       "churn               0\n",
       "song_count          0\n",
       "thumbs_up           5\n",
       "thumbs_down        22\n",
       "playlist_count     10\n",
       "friend_count       19\n",
       "session_count       0\n",
       "error_count       108\n",
       "active              0\n",
       "F                   0\n",
       "M                   0\n",
       "free                0\n",
       "paid                0\n",
       "dtype: int64"
      ]
     },
     "execution_count": 73,
     "metadata": {},
     "output_type": "execute_result"
    }
   ],
   "source": [
    "#which columns have null values \n",
    "features.toPandas().isnull().sum()"
   ]
  },
  {
   "cell_type": "code",
   "execution_count": 74,
   "metadata": {},
   "outputs": [],
   "source": [
    "#aassumption is if null then should be a a zero value \n",
    "#replace null values with zero \n",
    "features = features.na.fill(0)"
   ]
  },
  {
   "cell_type": "code",
   "execution_count": 75,
   "metadata": {},
   "outputs": [
    {
     "data": {
      "text/plain": [
       "userId            0\n",
       "churn             0\n",
       "song_count        0\n",
       "thumbs_up         0\n",
       "thumbs_down       0\n",
       "playlist_count    0\n",
       "friend_count      0\n",
       "session_count     0\n",
       "error_count       0\n",
       "active            0\n",
       "F                 0\n",
       "M                 0\n",
       "free              0\n",
       "paid              0\n",
       "dtype: int64"
      ]
     },
     "execution_count": 75,
     "metadata": {},
     "output_type": "execute_result"
    }
   ],
   "source": [
    "#validate nulls have been removed \n",
    "features.toPandas().isnull().sum()"
   ]
  },
  {
   "cell_type": "code",
   "execution_count": 76,
   "metadata": {},
   "outputs": [],
   "source": [
    "#drop the userId from the data frame as not needed for the modeling \n",
    "features = features.drop(\"userId\")"
   ]
  },
  {
   "cell_type": "code",
   "execution_count": 77,
   "metadata": {},
   "outputs": [
    {
     "name": "stdout",
     "output_type": "stream",
     "text": [
      "root\n",
      " |-- churn: long (nullable = true)\n",
      " |-- song_count: long (nullable = false)\n",
      " |-- thumbs_up: long (nullable = true)\n",
      " |-- thumbs_down: long (nullable = true)\n",
      " |-- playlist_count: long (nullable = true)\n",
      " |-- friend_count: long (nullable = true)\n",
      " |-- session_count: long (nullable = true)\n",
      " |-- error_count: long (nullable = true)\n",
      " |-- active: integer (nullable = true)\n",
      " |-- F: integer (nullable = true)\n",
      " |-- M: integer (nullable = true)\n",
      " |-- free: integer (nullable = true)\n",
      " |-- paid: integer (nullable = true)\n",
      "\n"
     ]
    }
   ],
   "source": [
    "features.printSchema()"
   ]
  },
  {
   "cell_type": "code",
   "execution_count": 78,
   "metadata": {},
   "outputs": [
    {
     "data": {
      "image/png": "[encoded data removed]",
      "text/plain": [
       "<Figure size 720x720 with 16 Axes>"
      ]
     },
     "metadata": {},
     "output_type": "display_data"
    }
   ],
   "source": [
    "#look at the histograms for features to see if any obvious anomalies \n",
    "features.toPandas().hist(figsize = (10,10));"
   ]
  },
  {
   "cell_type": "markdown",
   "metadata": {},
   "source": [
    "# Modeling\n",
    "Split the full dataset into train, test, and validation sets. Test out several of the machine learning methods you learned. Evaluate the accuracy of the various models, tuning parameters as necessary. Determine your winning model based on test accuracy and report results on the validation set. Since the churned users are a fairly small subset, I suggest using F1 score as the metric to optimize."
   ]
  },
  {
   "cell_type": "code",
   "execution_count": 79,
   "metadata": {},
   "outputs": [
    {
     "name": "stdout",
     "output_type": "stream",
     "text": [
      "['song_count', 'thumbs_up', 'thumbs_down', 'playlist_count', 'friend_count', 'session_count', 'error_count', 'active', 'F', 'M', 'free', 'paid']\n"
     ]
    }
   ],
   "source": [
    "#Feature Column\n",
    "numericCols = features.columns[1:]\n",
    "print(numericCols)"
   ]
  },
  {
   "cell_type": "code",
   "execution_count": 80,
   "metadata": {},
   "outputs": [
    {
     "name": "stdout",
     "output_type": "stream",
     "text": [
      "+-----+----------+---------+-----------+--------------+------------+-------------+-----------+------+---+---+----+----+--------------------+\n",
      "|churn|song_count|thumbs_up|thumbs_down|playlist_count|friend_count|session_count|error_count|active|  F|  M|free|paid|            features|\n",
      "+-----+----------+---------+-----------+--------------+------------+-------------+-----------+------+---+---+----+----+--------------------+\n",
      "|    0|       275|       17|          5|             7|           4|            7|          0|    44|  1|  0|   1|   0|[275.0,17.0,5.0,7...|\n",
      "|    0|       387|       21|          6|             8|           4|            6|          0|    45|  0|  1|   1|   0|[387.0,21.0,6.0,8...|\n",
      "|    1|         8|        0|          0|             0|           0|            1|          0|     0|  0|  1|   1|   0|(12,[0,5,9,10],[8...|\n",
      "|    0|      4079|      171|         41|           118|          74|           29|          6|    59|  1|  0|   0|   1|[4079.0,171.0,41....|\n",
      "|    1|      2111|      100|         21|            52|          28|           10|          1|    15|  0|  1|   0|   1|[2111.0,100.0,21....|\n",
      "+-----+----------+---------+-----------+--------------+------------+-------------+-----------+------+---+---+----+----+--------------------+\n",
      "only showing top 5 rows\n",
      "\n"
     ]
    }
   ],
   "source": [
    "# Transform all features into a vector using VectorAssembler\n",
    "features_vector = VectorAssembler(inputCols=numericCols, outputCol='features')\n",
    "data = features_vector.transform(features)\n",
    "data.show(5)"
   ]
  },
  {
   "cell_type": "code",
   "execution_count": 81,
   "metadata": {},
   "outputs": [
    {
     "name": "stdout",
     "output_type": "stream",
     "text": [
      "+-----+----------+---------+-----------+--------------+------------+-------------+-----------+------+---+---+----+----+--------------------+--------------------+\n",
      "|churn|song_count|thumbs_up|thumbs_down|playlist_count|friend_count|session_count|error_count|active|  F|  M|free|paid|            features|     scaled_features|\n",
      "+-----+----------+---------+-----------+--------------+------------+-------------+-----------+------+---+---+----+----+--------------------+--------------------+\n",
      "|    0|       275|       17|          5|             7|           4|            7|          0|    44|  1|  0|   1|   0|[275.0,17.0,5.0,7...|[-0.6686330842440...|\n",
      "|    0|       387|       21|          6|             8|           4|            6|          0|    45|  0|  1|   1|   0|[387.0,21.0,6.0,8...|[-0.5672720204182...|\n",
      "|    1|         8|        0|          0|             0|           0|            1|          0|     0|  0|  1|   1|   0|(12,[0,5,9,10],[8...|[-0.9102706203287...|\n",
      "|    0|      4079|      171|         41|           118|          74|           29|          6|    59|  1|  0|   0|   1|[4079.0,171.0,41....|[2.77402304783854...|\n",
      "|    1|      2111|      100|         21|            52|          28|           10|          1|    15|  0|  1|   0|   1|[2111.0,100.0,21....|[0.99296435489991...|\n",
      "+-----+----------+---------+-----------+--------------+------------+-------------+-----------+------+---+---+----+----+--------------------+--------------------+\n",
      "only showing top 5 rows\n",
      "\n"
     ]
    }
   ],
   "source": [
    "#Scale the transformed vector above \n",
    "scale_feature = StandardScaler(withMean=True, withStd=True, inputCol='features', outputCol='scaled_features')\n",
    "features_scaler_fit = scale_feature.fit(data)\n",
    "scaled = features_scaler_fit.transform(data)\n",
    "scaled.show(5)"
   ]
  },
  {
   "cell_type": "code",
   "execution_count": 82,
   "metadata": {},
   "outputs": [
    {
     "name": "stdout",
     "output_type": "stream",
     "text": [
      "root\n",
      " |-- churn: long (nullable = true)\n",
      " |-- song_count: long (nullable = false)\n",
      " |-- thumbs_up: long (nullable = true)\n",
      " |-- thumbs_down: long (nullable = true)\n",
      " |-- playlist_count: long (nullable = true)\n",
      " |-- friend_count: long (nullable = true)\n",
      " |-- session_count: long (nullable = true)\n",
      " |-- error_count: long (nullable = true)\n",
      " |-- active: integer (nullable = true)\n",
      " |-- F: integer (nullable = true)\n",
      " |-- M: integer (nullable = true)\n",
      " |-- free: integer (nullable = true)\n",
      " |-- paid: integer (nullable = true)\n",
      " |-- features: vector (nullable = true)\n",
      " |-- scaled_features: vector (nullable = true)\n",
      "\n"
     ]
    }
   ],
   "source": [
    "#check vector and scaled have been added  \n",
    "scaled.printSchema()"
   ]
  },
  {
   "cell_type": "code",
   "execution_count": 83,
   "metadata": {},
   "outputs": [
    {
     "name": "stdout",
     "output_type": "stream",
     "text": [
      "+-----+--------------------+\n",
      "|label|            features|\n",
      "+-----+--------------------+\n",
      "|    0|[-0.6686330842440...|\n",
      "|    0|[-0.5672720204182...|\n",
      "|    1|[-0.9102706203287...|\n",
      "|    0|[2.77402304783854...|\n",
      "|    1|[0.99296435489991...|\n",
      "+-----+--------------------+\n",
      "only showing top 5 rows\n",
      "\n"
     ]
    },
    {
     "data": {
      "text/plain": [
       "225"
      ]
     },
     "execution_count": 83,
     "metadata": {},
     "output_type": "execute_result"
    }
   ],
   "source": [
    "#create a new dataframe with label and features\n",
    "mldata = scaled.select(col(\"churn\").alias(\"label\"), col(\"scaled_features\").alias(\"features\"))\n",
    "mldata.show(5)\n",
    "mldata.count()"
   ]
  },
  {
   "cell_type": "code",
   "execution_count": 84,
   "metadata": {},
   "outputs": [],
   "source": [
    "# split data into train , test and validate \n",
    "#train, rest = mldata.randomSplit([0.7, 0.3], seed=41)\n",
    "#validate, test  = rest.randomSplit([0.5, 0.5], seed=41)"
   ]
  },
  {
   "cell_type": "code",
   "execution_count": null,
   "metadata": {},
   "outputs": [],
   "source": [
    "# split data into train and test \n",
    "train, test = mldata.randomSplit([0.7, 0.3], seed=41)"
   ]
  },
  {
   "cell_type": "markdown",
   "metadata": {},
   "source": [
    "# Create a baseline to use to evaluate model performance \n",
    "\n",
    "There is an inbalance with the Label values i.e. far more 0's (76%) than 1's(24%)"
   ]
  },
  {
   "cell_type": "code",
   "execution_count": 85,
   "metadata": {},
   "outputs": [],
   "source": [
    "from pyspark.sql.functions import rand , lit , when"
   ]
  },
  {
   "cell_type": "code",
   "execution_count": 86,
   "metadata": {},
   "outputs": [
    {
     "name": "stdout",
     "output_type": "stream",
     "text": [
      "+-----+--------------------+\n",
      "|label|            features|\n",
      "+-----+--------------------+\n",
      "|    0|[-0.6686330842440...|\n",
      "|    0|[-0.5672720204182...|\n",
      "|    1|[-0.9102706203287...|\n",
      "|    0|[2.77402304783854...|\n",
      "|    1|[0.99296435489991...|\n",
      "+-----+--------------------+\n",
      "only showing top 5 rows\n",
      "\n"
     ]
    }
   ],
   "source": [
    "#create a baseline dataframe to test \n",
    "baseline = mldata\n",
    "baseline.show(5)"
   ]
  },
  {
   "cell_type": "code",
   "execution_count": 87,
   "metadata": {},
   "outputs": [
    {
     "name": "stdout",
     "output_type": "stream",
     "text": [
      "+-----+-----+\n",
      "|label|count|\n",
      "+-----+-----+\n",
      "|    0|  173|\n",
      "|    1|   52|\n",
      "+-----+-----+\n",
      "\n"
     ]
    }
   ],
   "source": [
    "#view data \n",
    "baseline.groupby('label').count().show()"
   ]
  },
  {
   "cell_type": "code",
   "execution_count": 88,
   "metadata": {},
   "outputs": [
    {
     "name": "stdout",
     "output_type": "stream",
     "text": [
      "+-----+--------------------+-----+\n",
      "|label|            features|zeros|\n",
      "+-----+--------------------+-----+\n",
      "|    0|[-0.6686330842440...|    0|\n",
      "|    0|[-0.5672720204182...|    0|\n",
      "|    1|[-0.9102706203287...|    0|\n",
      "|    0|[2.77402304783854...|    0|\n",
      "|    1|[0.99296435489991...|    0|\n",
      "+-----+--------------------+-----+\n",
      "only showing top 5 rows\n",
      "\n"
     ]
    }
   ],
   "source": [
    "#add column with all 0's \n",
    "baseline = baseline.withColumn(\"zeros\", lit(0))\n",
    "baseline.show(5)"
   ]
  },
  {
   "cell_type": "code",
   "execution_count": 89,
   "metadata": {},
   "outputs": [
    {
     "name": "stdout",
     "output_type": "stream",
     "text": [
      "+-----+--------------------+-----+------+\n",
      "|label|            features|zeros|random|\n",
      "+-----+--------------------+-----+------+\n",
      "|    0|[-0.6686330842440...|    0|     0|\n",
      "|    0|[-0.5672720204182...|    0|     1|\n",
      "|    1|[-0.9102706203287...|    0|     0|\n",
      "|    0|[2.77402304783854...|    0|     0|\n",
      "|    1|[0.99296435489991...|    0|     1|\n",
      "+-----+--------------------+-----+------+\n",
      "only showing top 5 rows\n",
      "\n"
     ]
    }
   ],
   "source": [
    "#add column with random 1's and 0's \n",
    "baseline = baseline.withColumn('random', when(rand() > 0.5, 1).otherwise(0))\n",
    "baseline.show(5)"
   ]
  },
  {
   "cell_type": "code",
   "execution_count": 90,
   "metadata": {},
   "outputs": [
    {
     "name": "stdout",
     "output_type": "stream",
     "text": [
      "+---------+-----+\n",
      "|zero_flag|count|\n",
      "+---------+-----+\n",
      "|        1|  173|\n",
      "|        0|   52|\n",
      "+---------+-----+\n",
      "\n"
     ]
    }
   ],
   "source": [
    "#compare zero column to label data\n",
    "baseline.withColumn('zero_flag', F.when(col('zeros') == col('label'),1).otherwise(0)).groupBy('zero_flag').count().show()"
   ]
  },
  {
   "cell_type": "code",
   "execution_count": 91,
   "metadata": {},
   "outputs": [
    {
     "name": "stdout",
     "output_type": "stream",
     "text": [
      "+---------+-----+\n",
      "|rand_flag|count|\n",
      "+---------+-----+\n",
      "|        1|  124|\n",
      "|        0|  101|\n",
      "+---------+-----+\n",
      "\n"
     ]
    }
   ],
   "source": [
    "#compare random with label data \n",
    "baseline.withColumn('rand_flag', F.when(col('random') == col('label'),1).otherwise(0)).groupBy('rand_flag').count().show()"
   ]
  },
  {
   "cell_type": "markdown",
   "metadata": {},
   "source": [
    "Random 0's & 1's produces 55% correct answers\n",
    "while all zeros prodduces 77% correct answers because the data is not balanced "
   ]
  },
  {
   "cell_type": "markdown",
   "metadata": {},
   "source": [
    "# Popular algorithms that can be used for binary classification include:\n",
    "\n",
    "Logistic Regression ,\n",
    "k-Nearest Neighbors , \n",
    "Decision Trees , \n",
    "Support Vector Machine , \n",
    "Naive Bayes and  \n",
    "Random Forest . "
   ]
  },
  {
   "cell_type": "markdown",
   "metadata": {},
   "source": [
    "# Logistic Regression"
   ]
  },
  {
   "cell_type": "code",
   "execution_count": 119,
   "metadata": {},
   "outputs": [],
   "source": [
    "#using model standard parameters \n",
    "lr = LogisticRegression(labelCol=\"label\" , featuresCol= \"features\")\n",
    "model_lr=lr.fit(train)\n",
    "predictions_lr = model_lr.transform(test)"
   ]
  },
  {
   "cell_type": "code",
   "execution_count": 131,
   "metadata": {},
   "outputs": [
    {
     "name": "stdout",
     "output_type": "stream",
     "text": [
      "+-----+--------------------+--------------------+--------------------+----------+\n",
      "|label|            features|       rawPrediction|         probability|prediction|\n",
      "+-----+--------------------+--------------------+--------------------+----------+\n",
      "|    0|[0.81467748370636...|[2.02474740134590...|[0.88337100896088...|       0.0|\n",
      "|    0|[-0.1754029075918...|[0.97808953552371...|[0.72672897399882...|       0.0|\n",
      "|    0|[0.82734761668458...|[3.14521696500398...|[0.95871984267452...|       0.0|\n",
      "|    1|[-0.7093585116740...|[2.47440274911323...|[0.92232776162175...|       0.0|\n",
      "|    0|[-0.7229336541507...|[3.06264651282927...|[0.95532538313558...|       0.0|\n",
      "+-----+--------------------+--------------------+--------------------+----------+\n",
      "only showing top 5 rows\n",
      "\n"
     ]
    }
   ],
   "source": [
    "predictions_lr.show(5)"
   ]
  },
  {
   "cell_type": "code",
   "execution_count": 122,
   "metadata": {},
   "outputs": [
    {
     "name": "stdout",
     "output_type": "stream",
     "text": [
      "LogisticRegressionModel: uid = LogisticRegression_8ce7cd1e6e3e, numClasses = 2, numFeatures = 12\n"
     ]
    }
   ],
   "source": [
    "print(model_lr)"
   ]
  },
  {
   "cell_type": "code",
   "execution_count": 123,
   "metadata": {},
   "outputs": [
    {
     "name": "stdout",
     "output_type": "stream",
     "text": [
      "+----------+-----+\n",
      "|prediction|label|\n",
      "+----------+-----+\n",
      "|       0.0|    0|\n",
      "|       0.0|    0|\n",
      "|       0.0|    0|\n",
      "|       0.0|    1|\n",
      "|       0.0|    0|\n",
      "+----------+-----+\n",
      "only showing top 5 rows\n",
      "\n"
     ]
    }
   ],
   "source": [
    "predictions_lr.select(\"prediction\", \"label\").show(5)"
   ]
  },
  {
   "cell_type": "code",
   "execution_count": 135,
   "metadata": {},
   "outputs": [
    {
     "name": "stdout",
     "output_type": "stream",
     "text": [
      "+-----+----------+-----+\n",
      "|label|prediction|count|\n",
      "+-----+----------+-----+\n",
      "|    1|       0.0|    6|\n",
      "|    0|       1.0|    4|\n",
      "|    0|       0.0|   52|\n",
      "|    1|       1.0|    7|\n",
      "+-----+----------+-----+\n",
      "\n"
     ]
    }
   ],
   "source": [
    "predictions_lr.groupBy('label', 'prediction').count().show()"
   ]
  },
  {
   "cell_type": "code",
   "execution_count": 133,
   "metadata": {},
   "outputs": [
    {
     "name": "stdout",
     "output_type": "stream",
     "text": [
      "Logistic Regression Model Metrics :-\n",
      "f1 = 0.850305\n",
      "accuracy = 0.855072\n",
      "weightedPrecision = 0.847531\n",
      "weightedRecall = 0.855072\n"
     ]
    }
   ],
   "source": [
    "#Model Metrics for LogisticRegression\n",
    "evaluator_lr = MulticlassClassificationEvaluator(labelCol=\"label\",predictionCol=\"prediction\", metricName=\"accuracy\")\n",
    "accuracy_lr = evaluator_lr.evaluate(predictions_lr)\n",
    "\n",
    "evaluatorf1_lr = MulticlassClassificationEvaluator(labelCol=\"label\", predictionCol=\"prediction\", metricName=\"f1\")\n",
    "f1_lr = evaluatorf1_lr.evaluate(predictions_lr)\n",
    "\n",
    "evaluatorwp_lr = MulticlassClassificationEvaluator(labelCol=\"label\", predictionCol=\"prediction\", metricName=\"weightedPrecision\")\n",
    "wp_lr = evaluatorwp_lr.evaluate(predictions_lr)\n",
    "\n",
    "evaluatorwr_lr = MulticlassClassificationEvaluator(labelCol=\"label\", predictionCol=\"prediction\", metricName=\"weightedRecall\")\n",
    "wr_lr = evaluatorwr_lr.evaluate(predictions_lr)\n",
    "\n",
    "print (\"Logistic Regression Model Metrics :-\")\n",
    "print(\"f1 = %g\" % f1_lr)\n",
    "print(\"accuracy = %g\" % accuracy_lr)\n",
    "print(\"weightedPrecision = %g\" % wp_lr)\n",
    "print(\"weightedRecall = %g\" % wr_lr)"
   ]
  },
  {
   "cell_type": "markdown",
   "metadata": {},
   "source": [
    "# Decision Tree Classifier "
   ]
  },
  {
   "cell_type": "code",
   "execution_count": 136,
   "metadata": {},
   "outputs": [],
   "source": [
    "#using model standard parameter\n",
    "dt = DecisionTreeClassifier(labelCol=\"label\", featuresCol=\"features\")\n",
    "model_dt = dt.fit(train)\n",
    "predictions_dt = model_dt.transform(test)"
   ]
  },
  {
   "cell_type": "code",
   "execution_count": 138,
   "metadata": {},
   "outputs": [
    {
     "name": "stdout",
     "output_type": "stream",
     "text": [
      "DecisionTreeClassificationModel (uid=DecisionTreeClassifier_6d158d278e43) of depth 5 with 33 nodes\n"
     ]
    }
   ],
   "source": [
    "print(model_dt)"
   ]
  },
  {
   "cell_type": "code",
   "execution_count": 139,
   "metadata": {},
   "outputs": [
    {
     "name": "stdout",
     "output_type": "stream",
     "text": [
      "+-----+--------------------+-------------+-----------+----------+\n",
      "|label|            features|rawPrediction|probability|prediction|\n",
      "+-----+--------------------+-------------+-----------+----------+\n",
      "|    0|[0.81467748370636...|   [51.0,0.0]|  [1.0,0.0]|       0.0|\n",
      "|    0|[-0.1754029075918...|    [0.0,1.0]|  [0.0,1.0]|       1.0|\n",
      "|    0|[0.82734761668458...|    [0.0,1.0]|  [0.0,1.0]|       1.0|\n",
      "|    1|[-0.7093585116740...|   [17.0,0.0]|  [1.0,0.0]|       0.0|\n",
      "|    0|[-0.7229336541507...|   [10.0,0.0]|  [1.0,0.0]|       0.0|\n",
      "+-----+--------------------+-------------+-----------+----------+\n",
      "only showing top 5 rows\n",
      "\n"
     ]
    }
   ],
   "source": [
    "predictions_dt.show(5)"
   ]
  },
  {
   "cell_type": "code",
   "execution_count": 140,
   "metadata": {},
   "outputs": [
    {
     "name": "stdout",
     "output_type": "stream",
     "text": [
      "+-----+----------+-----+\n",
      "|label|prediction|count|\n",
      "+-----+----------+-----+\n",
      "|    1|       0.0|    4|\n",
      "|    0|       1.0|    9|\n",
      "|    0|       0.0|   47|\n",
      "|    1|       1.0|    9|\n",
      "+-----+----------+-----+\n",
      "\n"
     ]
    }
   ],
   "source": [
    "predictions_dt.groupBy('label', 'prediction').count().show()"
   ]
  },
  {
   "cell_type": "code",
   "execution_count": 141,
   "metadata": {},
   "outputs": [
    {
     "name": "stdout",
     "output_type": "stream",
     "text": [
      "Decision Tree Classifier Metrics :-\n",
      "f1 = 0.822386\n",
      "accuracy = 0.811594\n",
      "weightedPrecision = 0.842143\n",
      "weightedRecall = 0.811594\n"
     ]
    }
   ],
   "source": [
    "#Model Metrics for DecisionTreeClassifier\n",
    "evaluator_dt =MulticlassClassificationEvaluator(labelCol=\"label\",predictionCol=\"prediction\", metricName=\"accuracy\")\n",
    "accuracy_dt = evaluator_dt.evaluate(predictions_dt)\n",
    "\n",
    "evaluatorf1_dt = MulticlassClassificationEvaluator(labelCol=\"label\", predictionCol=\"prediction\", metricName=\"f1\")\n",
    "f1_dt = evaluatorf1_dt.evaluate(predictions_dt)\n",
    "\n",
    "evaluatorwp_dt = MulticlassClassificationEvaluator(labelCol=\"label\", predictionCol=\"prediction\", metricName=\"weightedPrecision\")\n",
    "wp_dt = evaluatorwp_dt.evaluate(predictions_dt)\n",
    "\n",
    "evaluatorwr_dt = MulticlassClassificationEvaluator(labelCol=\"label\", predictionCol=\"prediction\", metricName=\"weightedRecall\")\n",
    "wr_dt = evaluatorwr_dt.evaluate(predictions_dt)\n",
    "\n",
    "print (\"Decision Tree Classifier Metrics :-\")\n",
    "print(\"f1 = %g\" % f1_dt)\n",
    "print(\"accuracy = %g\" % accuracy_dt)\n",
    "print(\"weightedPrecision = %g\" % wp_dt)\n",
    "print(\"weightedRecall = %g\" % wr_dt)"
   ]
  },
  {
   "cell_type": "markdown",
   "metadata": {},
   "source": [
    "# Random Forest Classifier "
   ]
  },
  {
   "cell_type": "code",
   "execution_count": 173,
   "metadata": {},
   "outputs": [],
   "source": [
    "rf = RandomForestClassifier(labelCol=\"label\",featuresCol=\"features\")\n",
    "model_rf = rf.fit(train)\n",
    "predictions_rf = model_rf.transform(test)"
   ]
  },
  {
   "cell_type": "code",
   "execution_count": 175,
   "metadata": {},
   "outputs": [
    {
     "name": "stdout",
     "output_type": "stream",
     "text": [
      "RandomForestClassificationModel (uid=RandomForestClassifier_d28f614ed980) with 20 trees\n"
     ]
    }
   ],
   "source": [
    "print(model_rf)"
   ]
  },
  {
   "cell_type": "code",
   "execution_count": 176,
   "metadata": {
    "scrolled": true
   },
   "outputs": [
    {
     "name": "stdout",
     "output_type": "stream",
     "text": [
      "+-----+--------------------+--------------------+--------------------+----------+\n",
      "|label|            features|       rawPrediction|         probability|prediction|\n",
      "+-----+--------------------+--------------------+--------------------+----------+\n",
      "|    0|[0.81467748370636...|[18.5121491617678...|[0.92560745808839...|       0.0|\n",
      "|    0|[-0.1754029075918...|[10.0021645021645...|[0.50010822510822...|       0.0|\n",
      "|    0|[0.82734761668458...|[17.0460281039129...|[0.85230140519564...|       0.0|\n",
      "|    1|[-0.7093585116740...|[18.5085391031292...|[0.92542695515645...|       0.0|\n",
      "|    0|[-0.7229336541507...|[19.7544577191136...|[0.98772288595568...|       0.0|\n",
      "+-----+--------------------+--------------------+--------------------+----------+\n",
      "only showing top 5 rows\n",
      "\n"
     ]
    }
   ],
   "source": [
    "predictions_rf.show(5)"
   ]
  },
  {
   "cell_type": "code",
   "execution_count": 177,
   "metadata": {},
   "outputs": [
    {
     "name": "stdout",
     "output_type": "stream",
     "text": [
      "+-----+----------+-----+\n",
      "|label|prediction|count|\n",
      "+-----+----------+-----+\n",
      "|    1|       0.0|    5|\n",
      "|    0|       1.0|    4|\n",
      "|    0|       0.0|   52|\n",
      "|    1|       1.0|    8|\n",
      "+-----+----------+-----+\n",
      "\n"
     ]
    }
   ],
   "source": [
    "predictions_rf.groupBy('label', 'prediction').count().show()"
   ]
  },
  {
   "cell_type": "code",
   "execution_count": 178,
   "metadata": {},
   "outputs": [
    {
     "name": "stdout",
     "output_type": "stream",
     "text": [
      "Random Forest Model Metrics :-\n",
      "f1 = 0.867534\n",
      "accuracy = 0.869565\n",
      "weightedPrecision = 0.866006\n",
      "weightedRecall = 0.869565\n"
     ]
    }
   ],
   "source": [
    "evaluator_rf =MulticlassClassificationEvaluator(labelCol=\"label\",predictionCol=\"prediction\", metricName=\"accuracy\")\n",
    "accuracy_rf = evaluator_rf.evaluate(predictions_rf)\n",
    "\n",
    "evaluatorf1_rf = MulticlassClassificationEvaluator(labelCol=\"label\", predictionCol=\"prediction\", metricName=\"f1\")\n",
    "f1_rf = evaluatorf1_rf.evaluate(predictions_rf)\n",
    "\n",
    "evaluatorwp_rf = MulticlassClassificationEvaluator(labelCol=\"label\", predictionCol=\"prediction\", metricName=\"weightedPrecision\")\n",
    "wp_rf = evaluatorwp_rf.evaluate(predictions_rf)\n",
    "\n",
    "evaluatorwr_rf = MulticlassClassificationEvaluator(labelCol=\"label\", predictionCol=\"prediction\", metricName=\"weightedRecall\")\n",
    "wr_rf = evaluatorwr_rf.evaluate(predictions_rf)\n",
    "\n",
    "print (\"Random Forest Model Metrics :-\")\n",
    "print(\"f1 = %g\" % f1_rf)\n",
    "print(\"accuracy = %g\" % accuracy_rf)\n",
    "print(\"weightedPrecision = %g\" % wp_rf)\n",
    "print(\"weightedRecall = %g\" % wr_rf)"
   ]
  },
  {
   "cell_type": "code",
   "execution_count": 179,
   "metadata": {},
   "outputs": [
    {
     "data": {
      "image/png": "[encoded data removed]",
      "text/plain": [
       "<Figure size 432x288 with 1 Axes>"
      ]
     },
     "metadata": {
      "needs_background": "light"
     },
     "output_type": "display_data"
    }
   ],
   "source": [
    "feat_imp = model_rf.featureImportances.values\n",
    "y_pos = np.arange(len(numericCols))\n",
    "plt.barh(y_pos, feat_imp, align='center')\n",
    "plt.yticks(y_pos, numericCols)\n",
    "plt.xlabel('Importance Score')\n",
    "plt.title('RandomForestClassifier Feature Importances');"
   ]
  },
  {
   "cell_type": "code",
   "execution_count": 149,
   "metadata": {},
   "outputs": [
    {
     "name": "stdout",
     "output_type": "stream",
     "text": [
      "[0.10969803 0.08144803 0.10498219 0.04152964 0.08135222 0.09204245\n",
      " 0.01403873 0.42193142 0.02589082 0.01005112 0.00711918 0.00991617]\n"
     ]
    }
   ],
   "source": [
    "print(feat_imp)"
   ]
  },
  {
   "cell_type": "code",
   "execution_count": 160,
   "metadata": {},
   "outputs": [
    {
     "name": "stdout",
     "output_type": "stream",
     "text": [
      "estimator: estimator to be cross-validated (current: Pipeline_46935b148530)\n",
      "estimatorParamMaps: estimator param maps (current: [{Param(parent='RandomForestClassifier_37c47851f050', name='maxDepth', doc='Maximum depth of the tree. (>= 0) E.g., depth 0 means 1 leaf node; depth 1 means 1 internal node + 2 leaf nodes.'): 2, Param(parent='RandomForestClassifier_37c47851f050', name='maxBins', doc='Max number of bins for discretizing continuous features.  Must be >=2 and >= number of categories for any categorical feature.'): 5, Param(parent='RandomForestClassifier_37c47851f050', name='numTrees', doc='Number of trees to train (>= 1).'): 5}, {Param(parent='RandomForestClassifier_37c47851f050', name='maxDepth', doc='Maximum depth of the tree. (>= 0) E.g., depth 0 means 1 leaf node; depth 1 means 1 internal node + 2 leaf nodes.'): 2, Param(parent='RandomForestClassifier_37c47851f050', name='maxBins', doc='Max number of bins for discretizing continuous features.  Must be >=2 and >= number of categories for any categorical feature.'): 5, Param(parent='RandomForestClassifier_37c47851f050', name='numTrees', doc='Number of trees to train (>= 1).'): 20}, {Param(parent='RandomForestClassifier_37c47851f050', name='maxDepth', doc='Maximum depth of the tree. (>= 0) E.g., depth 0 means 1 leaf node; depth 1 means 1 internal node + 2 leaf nodes.'): 2, Param(parent='RandomForestClassifier_37c47851f050', name='maxBins', doc='Max number of bins for discretizing continuous features.  Must be >=2 and >= number of categories for any categorical feature.'): 5, Param(parent='RandomForestClassifier_37c47851f050', name='numTrees', doc='Number of trees to train (>= 1).'): 50}, {Param(parent='RandomForestClassifier_37c47851f050', name='maxDepth', doc='Maximum depth of the tree. (>= 0) E.g., depth 0 means 1 leaf node; depth 1 means 1 internal node + 2 leaf nodes.'): 2, Param(parent='RandomForestClassifier_37c47851f050', name='maxBins', doc='Max number of bins for discretizing continuous features.  Must be >=2 and >= number of categories for any categorical feature.'): 10, Param(parent='RandomForestClassifier_37c47851f050', name='numTrees', doc='Number of trees to train (>= 1).'): 5}, {Param(parent='RandomForestClassifier_37c47851f050', name='maxDepth', doc='Maximum depth of the tree. (>= 0) E.g., depth 0 means 1 leaf node; depth 1 means 1 internal node + 2 leaf nodes.'): 2, Param(parent='RandomForestClassifier_37c47851f050', name='maxBins', doc='Max number of bins for discretizing continuous features.  Must be >=2 and >= number of categories for any categorical feature.'): 10, Param(parent='RandomForestClassifier_37c47851f050', name='numTrees', doc='Number of trees to train (>= 1).'): 20}, {Param(parent='RandomForestClassifier_37c47851f050', name='maxDepth', doc='Maximum depth of the tree. (>= 0) E.g., depth 0 means 1 leaf node; depth 1 means 1 internal node + 2 leaf nodes.'): 2, Param(parent='RandomForestClassifier_37c47851f050', name='maxBins', doc='Max number of bins for discretizing continuous features.  Must be >=2 and >= number of categories for any categorical feature.'): 10, Param(parent='RandomForestClassifier_37c47851f050', name='numTrees', doc='Number of trees to train (>= 1).'): 50}, {Param(parent='RandomForestClassifier_37c47851f050', name='maxDepth', doc='Maximum depth of the tree. (>= 0) E.g., depth 0 means 1 leaf node; depth 1 means 1 internal node + 2 leaf nodes.'): 2, Param(parent='RandomForestClassifier_37c47851f050', name='maxBins', doc='Max number of bins for discretizing continuous features.  Must be >=2 and >= number of categories for any categorical feature.'): 20, Param(parent='RandomForestClassifier_37c47851f050', name='numTrees', doc='Number of trees to train (>= 1).'): 5}, {Param(parent='RandomForestClassifier_37c47851f050', name='maxDepth', doc='Maximum depth of the tree. (>= 0) E.g., depth 0 means 1 leaf node; depth 1 means 1 internal node + 2 leaf nodes.'): 2, Param(parent='RandomForestClassifier_37c47851f050', name='maxBins', doc='Max number of bins for discretizing continuous features.  Must be >=2 and >= number of categories for any categorical feature.'): 20, Param(parent='RandomForestClassifier_37c47851f050', name='numTrees', doc='Number of trees to train (>= 1).'): 20}, {Param(parent='RandomForestClassifier_37c47851f050', name='maxDepth', doc='Maximum depth of the tree. (>= 0) E.g., depth 0 means 1 leaf node; depth 1 means 1 internal node + 2 leaf nodes.'): 2, Param(parent='RandomForestClassifier_37c47851f050', name='maxBins', doc='Max number of bins for discretizing continuous features.  Must be >=2 and >= number of categories for any categorical feature.'): 20, Param(parent='RandomForestClassifier_37c47851f050', name='numTrees', doc='Number of trees to train (>= 1).'): 50}, {Param(parent='RandomForestClassifier_37c47851f050', name='maxDepth', doc='Maximum depth of the tree. (>= 0) E.g., depth 0 means 1 leaf node; depth 1 means 1 internal node + 2 leaf nodes.'): 5, Param(parent='RandomForestClassifier_37c47851f050', name='maxBins', doc='Max number of bins for discretizing continuous features.  Must be >=2 and >= number of categories for any categorical feature.'): 5, Param(parent='RandomForestClassifier_37c47851f050', name='numTrees', doc='Number of trees to train (>= 1).'): 5}, {Param(parent='RandomForestClassifier_37c47851f050', name='maxDepth', doc='Maximum depth of the tree. (>= 0) E.g., depth 0 means 1 leaf node; depth 1 means 1 internal node + 2 leaf nodes.'): 5, Param(parent='RandomForestClassifier_37c47851f050', name='maxBins', doc='Max number of bins for discretizing continuous features.  Must be >=2 and >= number of categories for any categorical feature.'): 5, Param(parent='RandomForestClassifier_37c47851f050', name='numTrees', doc='Number of trees to train (>= 1).'): 20}, {Param(parent='RandomForestClassifier_37c47851f050', name='maxDepth', doc='Maximum depth of the tree. (>= 0) E.g., depth 0 means 1 leaf node; depth 1 means 1 internal node + 2 leaf nodes.'): 5, Param(parent='RandomForestClassifier_37c47851f050', name='maxBins', doc='Max number of bins for discretizing continuous features.  Must be >=2 and >= number of categories for any categorical feature.'): 5, Param(parent='RandomForestClassifier_37c47851f050', name='numTrees', doc='Number of trees to train (>= 1).'): 50}, {Param(parent='RandomForestClassifier_37c47851f050', name='maxDepth', doc='Maximum depth of the tree. (>= 0) E.g., depth 0 means 1 leaf node; depth 1 means 1 internal node + 2 leaf nodes.'): 5, Param(parent='RandomForestClassifier_37c47851f050', name='maxBins', doc='Max number of bins for discretizing continuous features.  Must be >=2 and >= number of categories for any categorical feature.'): 10, Param(parent='RandomForestClassifier_37c47851f050', name='numTrees', doc='Number of trees to train (>= 1).'): 5}, {Param(parent='RandomForestClassifier_37c47851f050', name='maxDepth', doc='Maximum depth of the tree. (>= 0) E.g., depth 0 means 1 leaf node; depth 1 means 1 internal node + 2 leaf nodes.'): 5, Param(parent='RandomForestClassifier_37c47851f050', name='maxBins', doc='Max number of bins for discretizing continuous features.  Must be >=2 and >= number of categories for any categorical feature.'): 10, Param(parent='RandomForestClassifier_37c47851f050', name='numTrees', doc='Number of trees to train (>= 1).'): 20}, {Param(parent='RandomForestClassifier_37c47851f050', name='maxDepth', doc='Maximum depth of the tree. (>= 0) E.g., depth 0 means 1 leaf node; depth 1 means 1 internal node + 2 leaf nodes.'): 5, Param(parent='RandomForestClassifier_37c47851f050', name='maxBins', doc='Max number of bins for discretizing continuous features.  Must be >=2 and >= number of categories for any categorical feature.'): 10, Param(parent='RandomForestClassifier_37c47851f050', name='numTrees', doc='Number of trees to train (>= 1).'): 50}, {Param(parent='RandomForestClassifier_37c47851f050', name='maxDepth', doc='Maximum depth of the tree. (>= 0) E.g., depth 0 means 1 leaf node; depth 1 means 1 internal node + 2 leaf nodes.'): 5, Param(parent='RandomForestClassifier_37c47851f050', name='maxBins', doc='Max number of bins for discretizing continuous features.  Must be >=2 and >= number of categories for any categorical feature.'): 20, Param(parent='RandomForestClassifier_37c47851f050', name='numTrees', doc='Number of trees to train (>= 1).'): 5}, {Param(parent='RandomForestClassifier_37c47851f050', name='maxDepth', doc='Maximum depth of the tree. (>= 0) E.g., depth 0 means 1 leaf node; depth 1 means 1 internal node + 2 leaf nodes.'): 5, Param(parent='RandomForestClassifier_37c47851f050', name='maxBins', doc='Max number of bins for discretizing continuous features.  Must be >=2 and >= number of categories for any categorical feature.'): 20, Param(parent='RandomForestClassifier_37c47851f050', name='numTrees', doc='Number of trees to train (>= 1).'): 20}, {Param(parent='RandomForestClassifier_37c47851f050', name='maxDepth', doc='Maximum depth of the tree. (>= 0) E.g., depth 0 means 1 leaf node; depth 1 means 1 internal node + 2 leaf nodes.'): 5, Param(parent='RandomForestClassifier_37c47851f050', name='maxBins', doc='Max number of bins for discretizing continuous features.  Must be >=2 and >= number of categories for any categorical feature.'): 20, Param(parent='RandomForestClassifier_37c47851f050', name='numTrees', doc='Number of trees to train (>= 1).'): 50}, {Param(parent='RandomForestClassifier_37c47851f050', name='maxDepth', doc='Maximum depth of the tree. (>= 0) E.g., depth 0 means 1 leaf node; depth 1 means 1 internal node + 2 leaf nodes.'): 10, Param(parent='RandomForestClassifier_37c47851f050', name='maxBins', doc='Max number of bins for discretizing continuous features.  Must be >=2 and >= number of categories for any categorical feature.'): 5, Param(parent='RandomForestClassifier_37c47851f050', name='numTrees', doc='Number of trees to train (>= 1).'): 5}, {Param(parent='RandomForestClassifier_37c47851f050', name='maxDepth', doc='Maximum depth of the tree. (>= 0) E.g., depth 0 means 1 leaf node; depth 1 means 1 internal node + 2 leaf nodes.'): 10, Param(parent='RandomForestClassifier_37c47851f050', name='maxBins', doc='Max number of bins for discretizing continuous features.  Must be >=2 and >= number of categories for any categorical feature.'): 5, Param(parent='RandomForestClassifier_37c47851f050', name='numTrees', doc='Number of trees to train (>= 1).'): 20}, {Param(parent='RandomForestClassifier_37c47851f050', name='maxDepth', doc='Maximum depth of the tree. (>= 0) E.g., depth 0 means 1 leaf node; depth 1 means 1 internal node + 2 leaf nodes.'): 10, Param(parent='RandomForestClassifier_37c47851f050', name='maxBins', doc='Max number of bins for discretizing continuous features.  Must be >=2 and >= number of categories for any categorical feature.'): 5, Param(parent='RandomForestClassifier_37c47851f050', name='numTrees', doc='Number of trees to train (>= 1).'): 50}, {Param(parent='RandomForestClassifier_37c47851f050', name='maxDepth', doc='Maximum depth of the tree. (>= 0) E.g., depth 0 means 1 leaf node; depth 1 means 1 internal node + 2 leaf nodes.'): 10, Param(parent='RandomForestClassifier_37c47851f050', name='maxBins', doc='Max number of bins for discretizing continuous features.  Must be >=2 and >= number of categories for any categorical feature.'): 10, Param(parent='RandomForestClassifier_37c47851f050', name='numTrees', doc='Number of trees to train (>= 1).'): 5}, {Param(parent='RandomForestClassifier_37c47851f050', name='maxDepth', doc='Maximum depth of the tree. (>= 0) E.g., depth 0 means 1 leaf node; depth 1 means 1 internal node + 2 leaf nodes.'): 10, Param(parent='RandomForestClassifier_37c47851f050', name='maxBins', doc='Max number of bins for discretizing continuous features.  Must be >=2 and >= number of categories for any categorical feature.'): 10, Param(parent='RandomForestClassifier_37c47851f050', name='numTrees', doc='Number of trees to train (>= 1).'): 20}, {Param(parent='RandomForestClassifier_37c47851f050', name='maxDepth', doc='Maximum depth of the tree. (>= 0) E.g., depth 0 means 1 leaf node; depth 1 means 1 internal node + 2 leaf nodes.'): 10, Param(parent='RandomForestClassifier_37c47851f050', name='maxBins', doc='Max number of bins for discretizing continuous features.  Must be >=2 and >= number of categories for any categorical feature.'): 10, Param(parent='RandomForestClassifier_37c47851f050', name='numTrees', doc='Number of trees to train (>= 1).'): 50}, {Param(parent='RandomForestClassifier_37c47851f050', name='maxDepth', doc='Maximum depth of the tree. (>= 0) E.g., depth 0 means 1 leaf node; depth 1 means 1 internal node + 2 leaf nodes.'): 10, Param(parent='RandomForestClassifier_37c47851f050', name='maxBins', doc='Max number of bins for discretizing continuous features.  Must be >=2 and >= number of categories for any categorical feature.'): 20, Param(parent='RandomForestClassifier_37c47851f050', name='numTrees', doc='Number of trees to train (>= 1).'): 5}, {Param(parent='RandomForestClassifier_37c47851f050', name='maxDepth', doc='Maximum depth of the tree. (>= 0) E.g., depth 0 means 1 leaf node; depth 1 means 1 internal node + 2 leaf nodes.'): 10, Param(parent='RandomForestClassifier_37c47851f050', name='maxBins', doc='Max number of bins for discretizing continuous features.  Must be >=2 and >= number of categories for any categorical feature.'): 20, Param(parent='RandomForestClassifier_37c47851f050', name='numTrees', doc='Number of trees to train (>= 1).'): 20}, {Param(parent='RandomForestClassifier_37c47851f050', name='maxDepth', doc='Maximum depth of the tree. (>= 0) E.g., depth 0 means 1 leaf node; depth 1 means 1 internal node + 2 leaf nodes.'): 10, Param(parent='RandomForestClassifier_37c47851f050', name='maxBins', doc='Max number of bins for discretizing continuous features.  Must be >=2 and >= number of categories for any categorical feature.'): 20, Param(parent='RandomForestClassifier_37c47851f050', name='numTrees', doc='Number of trees to train (>= 1).'): 50}])\n",
      "evaluator: evaluator used to select hyper-parameters that maximize the validator metric (current: MulticlassClassificationEvaluator_23ea124f4bbb)\n",
      "seed: random seed. (default: 4503180439941595371)\n"
     ]
    }
   ],
   "source": [
    "print(model_rf.explainParams())"
   ]
  },
  {
   "cell_type": "code",
   "execution_count": 150,
   "metadata": {},
   "outputs": [],
   "source": [
    "rf = RandomForestClassifier(labelCol=\"label\", featuresCol=\"features\")\n",
    "evaluator = MulticlassClassificationEvaluator()    \n",
    "\n",
    "pipeline = Pipeline(stages= rf ) \n",
    "paramGrid = ParamGridBuilder().addGrid(rf.maxDepth, [2, 5, 10, 20, 30])\n",
    "                              .addGrid(rf.maxBins, [10, 20, 40, 80, 100])\n",
    "                              .addGrid(rf.numTrees, [5, 20, 50, 100, 500])\n",
    "                              .build()"
   ]
  },
  {
   "cell_type": "code",
   "execution_count": 151,
   "metadata": {},
   "outputs": [],
   "source": [
    "crossval = CrossValidator(estimator = pipeline,         \n",
    "                          estimatorParamMaps= paramGrid,\n",
    "                          evaluator = evaluator,\n",
    "                          numFolds = 5)"
   ]
  },
  {
   "cell_type": "code",
   "execution_count": 152,
   "metadata": {},
   "outputs": [],
   "source": [
    "model_rf = crossval.fit(train)"
   ]
  },
  {
   "cell_type": "code",
   "execution_count": 153,
   "metadata": {},
   "outputs": [],
   "source": [
    "predictions = model_rf.transform(test)"
   ]
  },
  {
   "cell_type": "code",
   "execution_count": 154,
   "metadata": {},
   "outputs": [
    {
     "name": "stdout",
     "output_type": "stream",
     "text": [
      "+----------+-----+\n",
      "|prediction|label|\n",
      "+----------+-----+\n",
      "|       0.0|    0|\n",
      "|       0.0|    0|\n",
      "|       0.0|    0|\n",
      "|       0.0|    1|\n",
      "|       0.0|    0|\n",
      "+----------+-----+\n",
      "only showing top 5 rows\n",
      "\n"
     ]
    }
   ],
   "source": [
    "predictions.select(\"prediction\", \"label\").show(5)"
   ]
  },
  {
   "cell_type": "code",
   "execution_count": 168,
   "metadata": {},
   "outputs": [
    {
     "name": "stdout",
     "output_type": "stream",
     "text": [
      "+-----+----------+-----+\n",
      "|label|prediction|count|\n",
      "+-----+----------+-----+\n",
      "|    1|       0.0|    5|\n",
      "|    0|       1.0|    4|\n",
      "|    0|       0.0|   52|\n",
      "|    1|       1.0|    8|\n",
      "+-----+----------+-----+\n",
      "\n"
     ]
    }
   ],
   "source": [
    "predictions_rf.groupBy('label', 'prediction').count().show()"
   ]
  },
  {
   "cell_type": "code",
   "execution_count": 165,
   "metadata": {},
   "outputs": [
    {
     "name": "stdout",
     "output_type": "stream",
     "text": [
      "f1 = 0.867534\n"
     ]
    }
   ],
   "source": [
    "evaluatorf1 = MulticlassClassificationEvaluator(labelCol=\"label\", predictionCol=\"prediction\", metricName=\"f1\")\n",
    "f1 = evaluatorf1.evaluate(predictions)\n",
    "print(\"f1 = %g\" % f1)"
   ]
  },
  {
   "cell_type": "code",
   "execution_count": 169,
   "metadata": {},
   "outputs": [],
   "source": [
    "evaluator_rf =MulticlassClassificationEvaluator(labelCol=\"label\",predictionCol=\"prediction\", metricName=\"accuracy\")\n",
    "accuracy_rf = evaluator_rf.evaluate(predictions_rf)\n",
    "\n",
    "evaluatorf1_rf = MulticlassClassificationEvaluator(labelCol=\"label\", predictionCol=\"prediction\", metricName=\"f1\")\n",
    "f1_rf = evaluatorf1_rf.evaluate(predictions_rf)\n",
    "\n",
    "evaluatorwp_rf = MulticlassClassificationEvaluator(labelCol=\"label\", predictionCol=\"prediction\", metricName=\"weightedPrecision\")\n",
    "wp_rf = evaluatorwp_rf.evaluate(predictions_rf)\n",
    "\n",
    "evaluatorwr_rf = MulticlassClassificationEvaluator(labelCol=\"label\", predictionCol=\"prediction\", metricName=\"weightedRecall\")\n",
    "wr_rf = evaluatorwr_rf.evaluate(predictions_rf)"
   ]
  },
  {
   "cell_type": "code",
   "execution_count": 170,
   "metadata": {},
   "outputs": [
    {
     "name": "stdout",
     "output_type": "stream",
     "text": [
      "Random Forest Model Metrics :-\n",
      "f1 = 0.867534\n",
      "accuracy = 0.869565\n",
      "weightedPrecision = 0.866006\n",
      "weightedRecall = 0.869565\n"
     ]
    }
   ],
   "source": [
    "print (\"Random Forest Model Metrics :-\")\n",
    "print(\"f1 = %g\" % f1_rf)\n",
    "print(\"accuracy = %g\" % accuracy_rf)\n",
    "print(\"weightedPrecision = %g\" % wp_rf)\n",
    "print(\"weightedRecall = %g\" % wr_rf)"
   ]
  },
  {
   "cell_type": "code",
   "execution_count": 156,
   "metadata": {},
   "outputs": [
    {
     "name": "stdout",
     "output_type": "stream",
     "text": [
      "Number of models to be tested:  27\n"
     ]
    }
   ],
   "source": [
    "# How many models tested ?\n",
    "print('Number of models to be tested: ', len(paramGrid))"
   ]
  },
  {
   "cell_type": "code",
   "execution_count": 158,
   "metadata": {},
   "outputs": [],
   "source": [
    "bestModel = model_rf.bestModel"
   ]
  },
  {
   "cell_type": "code",
   "execution_count": 159,
   "metadata": {},
   "outputs": [
    {
     "name": "stdout",
     "output_type": "stream",
     "text": [
      "PipelineModel_35def97247ce\n"
     ]
    }
   ],
   "source": [
    "print(bestModel)"
   ]
  },
  {
   "cell_type": "markdown",
   "metadata": {},
   "source": [
    "# Final Steps\n",
    "Clean up your code, adding comments and renaming variables to make the code easier to read and maintain. Refer to the Spark Project Overview page and Data Scientist Capstone Project Rubric to make sure you are including all components of the capstone project and meet all expectations. Remember, this includes thorough documentation in a README file in a Github repository, as well as a web app or blog post."
   ]
  }
 ],
 "metadata": {
  "kernelspec": {
   "display_name": "Python 3",
   "language": "python",
   "name": "python3"
  },
  "language_info": {
   "codemirror_mode": {
    "name": "ipython",
    "version": 3
   },
   "file_extension": ".py",
   "mimetype": "text/x-python",
   "name": "python",
   "nbconvert_exporter": "python",
   "pygments_lexer": "ipython3",
   "version": "3.7.4"
  }
 },
 "nbformat": 4,
 "nbformat_minor": 2
}
